{
 "cells": [
  {
   "cell_type": "code",
   "execution_count": 99,
   "id": "dominant-testimony",
   "metadata": {},
   "outputs": [],
   "source": [
    "import tensorflow as tf\n",
    "import numpy as np\n",
    "from matplotlib import pyplot as plt\n",
    "import cv2\n",
    "import pandas as pd\n",
    "import math\n",
    "from sklearn.model_selection import train_test_split\n",
    "from tqdm import tqdm\n",
    "from PIL import Image\n"
   ]
  },
  {
   "cell_type": "code",
   "execution_count": 100,
   "id": "3fbaa095",
   "metadata": {},
   "outputs": [],
   "source": [
    "# interpreter = tf.lite.Interpreter(model_path='movenet_thunder.tflite')\n",
    "interpreter = tf.lite.Interpreter(model_path='model.tflite')\n",
    "# interpreter = tf.lite.Interpreter(model_path='movent_model_thunder.tflite')\n",
    "interpreter.allocate_tensors()"
   ]
  },
  {
   "cell_type": "code",
   "execution_count": 101,
   "id": "e2e5351f",
   "metadata": {},
   "outputs": [
    {
     "data": {
      "text/plain": [
       "[{'name': 'StatefulPartitionedCall:0',\n",
       "  'index': 312,\n",
       "  'shape': array([ 1,  1, 17,  3]),\n",
       "  'shape_signature': array([ 1,  1, 17,  3]),\n",
       "  'dtype': numpy.float32,\n",
       "  'quantization': (0.0, 0),\n",
       "  'quantization_parameters': {'scales': array([], dtype=float32),\n",
       "   'zero_points': array([], dtype=int32),\n",
       "   'quantized_dimension': 0},\n",
       "  'sparsity_parameters': {}}]"
      ]
     },
     "execution_count": 101,
     "metadata": {},
     "output_type": "execute_result"
    }
   ],
   "source": [
    "interpreter.get_output_details()"
   ]
  },
  {
   "cell_type": "markdown",
   "id": "17cb13a5",
   "metadata": {},
   "source": []
  },
  {
   "cell_type": "code",
   "execution_count": 102,
   "id": "ce7430c7",
   "metadata": {},
   "outputs": [],
   "source": [
    "import os\n",
    "import pandas as pd\n",
    "\n",
    "folder_to_search = 'data'\n",
    "def findExt(folder):\n",
    "    matches = []\n",
    "    return [os.path.join(r, fn)for r, ds, fs in os.walk(folder)for fn in fs if fn.endswith('.png')or fn.endswith('.jpg')]"
   ]
  },
  {
   "cell_type": "code",
   "execution_count": 103,
   "id": "c824e7c3",
   "metadata": {},
   "outputs": [],
   "source": [
    "all_paths=findExt(folder_to_search)"
   ]
  },
  {
   "cell_type": "code",
   "execution_count": 104,
   "id": "47a01cb8",
   "metadata": {},
   "outputs": [
    {
     "data": {
      "text/plain": [
       "['data\\\\test\\\\correct\\\\an_img_00050013.png']"
      ]
     },
     "execution_count": 104,
     "metadata": {},
     "output_type": "execute_result"
    }
   ],
   "source": [
    "all_paths[0].split('/')"
   ]
  },
  {
   "cell_type": "code",
   "execution_count": 105,
   "id": "f5bb75fa",
   "metadata": {},
   "outputs": [
    {
     "data": {
      "text/plain": [
       "497"
      ]
     },
     "execution_count": 105,
     "metadata": {},
     "output_type": "execute_result"
    }
   ],
   "source": [
    "len(all_paths)"
   ]
  },
  {
   "cell_type": "code",
   "execution_count": 106,
   "id": "d13bd8c5",
   "metadata": {},
   "outputs": [],
   "source": [
    "KEYPOINT_LIST = [\n",
    "    'nose',\n",
    "    'left_eye',\n",
    "    'right_eye',\n",
    "    'left_ear',\n",
    "    'right_ear',\n",
    "    'left_shoulder',\n",
    "    'right_shoulder',\n",
    "    'left_elbow',\n",
    "    'right_elbow',\n",
    "    'left_wrist',\n",
    "    'right_wrist',\n",
    "    'left_hip',\n",
    "    'right_hip',\n",
    "    'left_knee',\n",
    "    'right_knee',\n",
    "    'left_ankle',\n",
    "    'right_ankle'\n",
    "]"
   ]
  },
  {
   "cell_type": "code",
   "execution_count": 107,
   "id": "98b5243f",
   "metadata": {},
   "outputs": [],
   "source": [
    "df={}"
   ]
  },
  {
   "cell_type": "code",
   "execution_count": 108,
   "id": "467f2e67",
   "metadata": {},
   "outputs": [
    {
     "name": "stderr",
     "output_type": "stream",
     "text": [
      "  0%|          | 2/497 [00:00<00:40, 12.11it/s]"
     ]
    },
    {
     "name": "stdout",
     "output_type": "stream",
     "text": [
      "data\\test\\correct\\an_img_00050013.png\n",
      "data\\test\\correct\\an_img_00050015.png\n",
      "data\\test\\correct\\an_img_00050061.png\n"
     ]
    },
    {
     "name": "stderr",
     "output_type": "stream",
     "text": [
      "  1%|          | 6/497 [00:00<00:39, 12.52it/s]"
     ]
    },
    {
     "name": "stdout",
     "output_type": "stream",
     "text": [
      "data\\test\\correct\\an_img_00050069.png\n",
      "data\\test\\correct\\an_img_00050070.png\n",
      "data\\test\\correct\\an_img_00050073.png\n"
     ]
    },
    {
     "name": "stderr",
     "output_type": "stream",
     "text": [
      "  2%|▏         | 8/497 [00:00<00:38, 12.82it/s]"
     ]
    },
    {
     "name": "stdout",
     "output_type": "stream",
     "text": [
      "data\\test\\correct\\an_img_00110062.png\n",
      "data\\test\\correct\\an_img_00110066.png\n",
      "data\\test\\correct\\an_img_00130065.png\n"
     ]
    },
    {
     "name": "stderr",
     "output_type": "stream",
     "text": [
      "  2%|▏         | 12/497 [00:00<00:36, 13.34it/s]"
     ]
    },
    {
     "name": "stdout",
     "output_type": "stream",
     "text": [
      "data\\test\\correct\\br_img_00050061.png\n",
      "data\\test\\correct\\br_img_00050069.png\n",
      "data\\test\\correct\\br_img_00050073.png\n"
     ]
    },
    {
     "name": "stderr",
     "output_type": "stream",
     "text": [
      "  3%|▎         | 14/497 [00:01<00:36, 13.08it/s]"
     ]
    },
    {
     "name": "stdout",
     "output_type": "stream",
     "text": [
      "data\\test\\correct\\br_img_00070048.png\n",
      "data\\test\\correct\\br_img_00070049.png\n",
      "data\\test\\correct\\br_img_00070062.png\n"
     ]
    },
    {
     "name": "stderr",
     "output_type": "stream",
     "text": [
      "  4%|▎         | 18/497 [00:01<00:35, 13.60it/s]"
     ]
    },
    {
     "name": "stdout",
     "output_type": "stream",
     "text": [
      "data\\test\\correct\\br_img_00070063.png\n",
      "data\\test\\correct\\br_img_00070064.png\n",
      "data\\test\\correct\\br_img_00070065.png\n"
     ]
    },
    {
     "name": "stderr",
     "output_type": "stream",
     "text": [
      "  4%|▍         | 20/497 [00:01<00:35, 13.44it/s]"
     ]
    },
    {
     "name": "stdout",
     "output_type": "stream",
     "text": [
      "data\\test\\correct\\br_img_00070066.png\n",
      "data\\test\\correct\\br_img_00100023.png\n",
      "data\\test\\correct\\br_img_00110056.png\n"
     ]
    },
    {
     "name": "stderr",
     "output_type": "stream",
     "text": [
      "  5%|▍         | 24/497 [00:01<00:34, 13.58it/s]"
     ]
    },
    {
     "name": "stdout",
     "output_type": "stream",
     "text": [
      "data\\test\\correct\\br_img_00110062.png\n",
      "data\\test\\correct\\br_img_00130024.png\n",
      "data\\test\\correct\\gb_img_00050061.png\n"
     ]
    },
    {
     "name": "stderr",
     "output_type": "stream",
     "text": [
      "  5%|▌         | 26/497 [00:01<00:34, 13.67it/s]"
     ]
    },
    {
     "name": "stdout",
     "output_type": "stream",
     "text": [
      "data\\test\\correct\\gb_img_00050063.png\n",
      "data\\test\\correct\\gb_img_00050069.png\n",
      "data\\test\\correct\\gb_img_00050070.png\n"
     ]
    },
    {
     "name": "stderr",
     "output_type": "stream",
     "text": [
      "  6%|▌         | 28/497 [00:02<00:34, 13.65it/s]"
     ]
    },
    {
     "name": "stdout",
     "output_type": "stream",
     "text": [
      "data\\test\\correct\\gb_img_00050073.png\n",
      "data\\test\\correct\\gb_img_00050074.png\n"
     ]
    },
    {
     "name": "stderr",
     "output_type": "stream",
     "text": [
      "  6%|▋         | 32/497 [00:02<00:37, 12.28it/s]"
     ]
    },
    {
     "name": "stdout",
     "output_type": "stream",
     "text": [
      "data\\test\\correct\\gb_img_00050075.png\n",
      "data\\test\\correct\\gb_img_00050076.png\n",
      "data\\test\\correct\\gb_img_00060049.png\n"
     ]
    },
    {
     "name": "stderr",
     "output_type": "stream",
     "text": [
      "  7%|▋         | 34/497 [00:02<00:38, 11.89it/s]"
     ]
    },
    {
     "name": "stdout",
     "output_type": "stream",
     "text": [
      "data\\test\\correct\\gb_img_00060063.png\n",
      "data\\test\\correct\\gb_img_00060064.png\n",
      "data\\test\\correct\\gb_img_00070049.png\n"
     ]
    },
    {
     "name": "stderr",
     "output_type": "stream",
     "text": [
      "  7%|▋         | 36/497 [00:02<00:38, 12.10it/s]"
     ]
    },
    {
     "name": "stdout",
     "output_type": "stream",
     "text": [
      "data\\test\\correct\\gb_img_00070062.png\n",
      "data\\test\\correct\\gb_img_00100022.png\n"
     ]
    },
    {
     "name": "stderr",
     "output_type": "stream",
     "text": [
      "  8%|▊         | 40/497 [00:03<00:42, 10.82it/s]"
     ]
    },
    {
     "name": "stdout",
     "output_type": "stream",
     "text": [
      "data\\test\\correct\\gb_img_00100023.png\n",
      "data\\test\\correct\\gb_img_00100064.png\n",
      "data\\test\\correct\\gb_img_00130065.png\n"
     ]
    },
    {
     "name": "stderr",
     "output_type": "stream",
     "text": [
      "  9%|▉         | 44/497 [00:03<00:36, 12.29it/s]"
     ]
    },
    {
     "name": "stdout",
     "output_type": "stream",
     "text": [
      "data\\test\\correct\\image11.jpg\n",
      "data\\test\\correct\\image112.jpg\n",
      "data\\test\\correct\\image115.jpg\n",
      "data\\test\\correct\\image123.jpg\n"
     ]
    },
    {
     "name": "stderr",
     "output_type": "stream",
     "text": [
      " 10%|▉         | 48/497 [00:03<00:32, 13.74it/s]"
     ]
    },
    {
     "name": "stdout",
     "output_type": "stream",
     "text": [
      "data\\test\\correct\\image134.jpg\n",
      "data\\test\\correct\\image138.jpg\n",
      "data\\test\\correct\\image139.jpg\n",
      "data\\test\\correct\\image141.jpg\n"
     ]
    },
    {
     "name": "stderr",
     "output_type": "stream",
     "text": [
      " 10%|█         | 50/497 [00:03<00:31, 13.99it/s]"
     ]
    },
    {
     "name": "stdout",
     "output_type": "stream",
     "text": [
      "data\\test\\correct\\image144.jpg\n",
      "data\\test\\correct\\image145.jpg\n",
      "data\\test\\correct\\image152.jpg\n"
     ]
    },
    {
     "name": "stderr",
     "output_type": "stream",
     "text": [
      " 11%|█         | 54/497 [00:04<00:31, 14.07it/s]"
     ]
    },
    {
     "name": "stdout",
     "output_type": "stream",
     "text": [
      "data\\test\\correct\\image156.jpg\n",
      "data\\test\\correct\\image158.jpg\n",
      "data\\test\\correct\\image166.jpg\n"
     ]
    },
    {
     "name": "stderr",
     "output_type": "stream",
     "text": [
      " 11%|█▏        | 56/497 [00:04<00:31, 14.12it/s]"
     ]
    },
    {
     "name": "stdout",
     "output_type": "stream",
     "text": [
      "data\\test\\correct\\image167.jpg\n",
      "data\\test\\correct\\image168.jpg\n",
      "data\\test\\correct\\image172.jpg\n"
     ]
    },
    {
     "name": "stderr",
     "output_type": "stream",
     "text": [
      " 12%|█▏        | 60/497 [00:04<00:31, 14.00it/s]"
     ]
    },
    {
     "name": "stdout",
     "output_type": "stream",
     "text": [
      "data\\test\\correct\\img_00050013 (2).png\n",
      "data\\test\\correct\\img_00050013.png\n",
      "data\\test\\correct\\img_00050015 (2).png\n"
     ]
    },
    {
     "name": "stderr",
     "output_type": "stream",
     "text": [
      " 12%|█▏        | 62/497 [00:04<00:31, 13.93it/s]"
     ]
    },
    {
     "name": "stdout",
     "output_type": "stream",
     "text": [
      "data\\test\\correct\\img_00050015.png\n",
      "data\\test\\correct\\img_00050061 (2).png\n",
      "data\\test\\correct\\img_00050061.png\n"
     ]
    },
    {
     "name": "stderr",
     "output_type": "stream",
     "text": [
      " 13%|█▎        | 66/497 [00:05<00:31, 13.72it/s]"
     ]
    },
    {
     "name": "stdout",
     "output_type": "stream",
     "text": [
      "data\\test\\correct\\img_00050069 (2).png\n",
      "data\\test\\correct\\img_00050069.png\n",
      "data\\test\\correct\\img_00050073 (2).png\n"
     ]
    },
    {
     "name": "stderr",
     "output_type": "stream",
     "text": [
      " 14%|█▎        | 68/497 [00:05<00:31, 13.74it/s]"
     ]
    },
    {
     "name": "stdout",
     "output_type": "stream",
     "text": [
      "data\\test\\correct\\img_00050073.png\n",
      "data\\test\\correct\\img_00060063 (2).png\n",
      "data\\test\\correct\\img_00060063.png\n"
     ]
    },
    {
     "name": "stderr",
     "output_type": "stream",
     "text": [
      " 14%|█▍        | 72/497 [00:05<00:30, 13.79it/s]"
     ]
    },
    {
     "name": "stdout",
     "output_type": "stream",
     "text": [
      "data\\test\\correct\\img_00060064 (2).png\n",
      "data\\test\\correct\\img_00060064.png\n",
      "data\\test\\correct\\img_00070064 (2).png\n"
     ]
    },
    {
     "name": "stderr",
     "output_type": "stream",
     "text": [
      " 15%|█▍        | 74/497 [00:05<00:31, 13.39it/s]"
     ]
    },
    {
     "name": "stdout",
     "output_type": "stream",
     "text": [
      "data\\test\\correct\\img_00070064.png\n",
      "data\\test\\correct\\img_00100022.png\n",
      "data\\test\\correct\\img_00100023.png\n"
     ]
    },
    {
     "name": "stderr",
     "output_type": "stream",
     "text": [
      " 16%|█▌        | 78/497 [00:05<00:31, 13.43it/s]"
     ]
    },
    {
     "name": "stdout",
     "output_type": "stream",
     "text": [
      "data\\test\\correct\\img_00110013.png\n",
      "data\\test\\correct\\mb_img_00050073.png\n",
      "data\\test\\correct\\mb_img_00100050.png\n"
     ]
    },
    {
     "name": "stderr",
     "output_type": "stream",
     "text": [
      " 16%|█▌        | 80/497 [00:06<00:31, 13.23it/s]"
     ]
    },
    {
     "name": "stdout",
     "output_type": "stream",
     "text": [
      "data\\test\\correct\\mb_img_00110071.png\n",
      "data\\test\\correct\\mb_img_00110072.png\n",
      "data\\test\\correct\\mb_img_00110078.png\n"
     ]
    },
    {
     "name": "stderr",
     "output_type": "stream",
     "text": [
      " 17%|█▋        | 84/497 [00:06<00:30, 13.59it/s]"
     ]
    },
    {
     "name": "stdout",
     "output_type": "stream",
     "text": [
      "data\\test\\wrong\\an_img_00050012.png\n",
      "data\\test\\wrong\\an_img_00050017.png\n",
      "data\\test\\wrong\\an_img_00050018.png\n"
     ]
    },
    {
     "name": "stderr",
     "output_type": "stream",
     "text": [
      " 17%|█▋        | 86/497 [00:06<00:30, 13.68it/s]"
     ]
    },
    {
     "name": "stdout",
     "output_type": "stream",
     "text": [
      "data\\test\\wrong\\an_img_00050019.png\n",
      "data\\test\\wrong\\an_img_00050055.png\n",
      "data\\test\\wrong\\an_img_00050056.png\n"
     ]
    },
    {
     "name": "stderr",
     "output_type": "stream",
     "text": [
      " 18%|█▊        | 90/497 [00:06<00:30, 13.28it/s]"
     ]
    },
    {
     "name": "stdout",
     "output_type": "stream",
     "text": [
      "data\\test\\wrong\\an_img_00050072.png\n",
      "data\\test\\wrong\\an_img_00130066.png\n",
      "data\\test\\wrong\\an_img_00130067.png\n"
     ]
    },
    {
     "name": "stderr",
     "output_type": "stream",
     "text": [
      " 19%|█▊        | 92/497 [00:06<00:30, 13.27it/s]"
     ]
    },
    {
     "name": "stdout",
     "output_type": "stream",
     "text": [
      "data\\test\\wrong\\an_img_00130068.png\n",
      "data\\test\\wrong\\br_img_00130015.png\n",
      "data\\test\\wrong\\br_img_00130016.png\n"
     ]
    },
    {
     "name": "stderr",
     "output_type": "stream",
     "text": [
      " 19%|█▉        | 96/497 [00:07<00:29, 13.61it/s]"
     ]
    },
    {
     "name": "stdout",
     "output_type": "stream",
     "text": [
      "data\\test\\wrong\\br_img_00130066.png\n",
      "data\\test\\wrong\\br_img_00130069.png\n",
      "data\\test\\wrong\\gb_img_00050012.png\n"
     ]
    },
    {
     "name": "stderr",
     "output_type": "stream",
     "text": [
      " 20%|█▉        | 98/497 [00:07<00:30, 13.27it/s]"
     ]
    },
    {
     "name": "stdout",
     "output_type": "stream",
     "text": [
      "data\\test\\wrong\\gb_img_00050055.png\n",
      "data\\test\\wrong\\gb_img_00050056.png\n",
      "data\\test\\wrong\\gb_img_00050057.png\n"
     ]
    },
    {
     "name": "stderr",
     "output_type": "stream",
     "text": [
      " 21%|██        | 102/497 [00:07<00:29, 13.49it/s]"
     ]
    },
    {
     "name": "stdout",
     "output_type": "stream",
     "text": [
      "data\\test\\wrong\\gb_img_00050072.png\n",
      "data\\test\\wrong\\gb_img_00070050.png\n",
      "data\\test\\wrong\\gb_img_00070051.png\n"
     ]
    },
    {
     "name": "stderr",
     "output_type": "stream",
     "text": [
      " 21%|██        | 104/497 [00:07<00:29, 13.36it/s]"
     ]
    },
    {
     "name": "stdout",
     "output_type": "stream",
     "text": [
      "data\\test\\wrong\\gb_img_00070061.png\n",
      "data\\test\\wrong\\gb_img_00070067.png\n",
      "data\\test\\wrong\\gb_img_00070068.png\n"
     ]
    },
    {
     "name": "stderr",
     "output_type": "stream",
     "text": [
      " 22%|██▏       | 108/497 [00:08<00:28, 13.66it/s]"
     ]
    },
    {
     "name": "stdout",
     "output_type": "stream",
     "text": [
      "data\\test\\wrong\\gb_img_00070069.png\n",
      "data\\test\\wrong\\gb_img_00070070.png\n",
      "data\\test\\wrong\\gb_img_00070071.png\n",
      "data\\test\\wrong\\gb_img_00070072.png\n"
     ]
    },
    {
     "name": "stderr",
     "output_type": "stream",
     "text": [
      " 23%|██▎       | 112/497 [00:08<00:27, 13.90it/s]"
     ]
    },
    {
     "name": "stdout",
     "output_type": "stream",
     "text": [
      "data\\test\\wrong\\gb_img_00100016.png\n",
      "data\\test\\wrong\\gb_img_00130015.png\n",
      "data\\test\\wrong\\gb_img_00130016.png\n"
     ]
    },
    {
     "name": "stderr",
     "output_type": "stream",
     "text": [
      " 23%|██▎       | 116/497 [00:08<00:26, 14.37it/s]"
     ]
    },
    {
     "name": "stdout",
     "output_type": "stream",
     "text": [
      "data\\test\\wrong\\gb_img_00130017.png\n",
      "data\\test\\wrong\\gb_img_00130066.png\n",
      "data\\test\\wrong\\gb_img_00130069.png\n",
      "data\\test\\wrong\\image114.jpg\n"
     ]
    },
    {
     "name": "stderr",
     "output_type": "stream",
     "text": [
      " 24%|██▍       | 120/497 [00:08<00:25, 14.94it/s]"
     ]
    },
    {
     "name": "stdout",
     "output_type": "stream",
     "text": [
      "data\\test\\wrong\\image129.jpg\n",
      "data\\test\\wrong\\image143.jpg\n",
      "data\\test\\wrong\\image146.jpg\n",
      "data\\test\\wrong\\image149.jpg\n"
     ]
    },
    {
     "name": "stderr",
     "output_type": "stream",
     "text": [
      " 25%|██▍       | 122/497 [00:09<00:27, 13.59it/s]"
     ]
    },
    {
     "name": "stdout",
     "output_type": "stream",
     "text": [
      "data\\test\\wrong\\image153.jpg\n",
      "data\\test\\wrong\\image154.jpg\n",
      "data\\test\\wrong\\image155.jpg\n"
     ]
    },
    {
     "name": "stderr",
     "output_type": "stream",
     "text": [
      " 25%|██▌       | 126/497 [00:09<00:26, 13.92it/s]"
     ]
    },
    {
     "name": "stdout",
     "output_type": "stream",
     "text": [
      "data\\test\\wrong\\image171.jpg\n",
      "data\\test\\wrong\\image186.jpg\n",
      "data\\test\\wrong\\img_00050019.png\n"
     ]
    },
    {
     "name": "stderr",
     "output_type": "stream",
     "text": [
      " 26%|██▌       | 128/497 [00:09<00:26, 13.84it/s]"
     ]
    },
    {
     "name": "stdout",
     "output_type": "stream",
     "text": [
      "data\\test\\wrong\\img_00070050 (2).png\n",
      "data\\test\\wrong\\img_00070050.png\n",
      "data\\test\\wrong\\img_00070067 (2).png\n"
     ]
    },
    {
     "name": "stderr",
     "output_type": "stream",
     "text": [
      " 27%|██▋       | 132/497 [00:09<00:26, 13.52it/s]"
     ]
    },
    {
     "name": "stdout",
     "output_type": "stream",
     "text": [
      "data\\test\\wrong\\img_00070067.png\n",
      "data\\test\\wrong\\img_00070068 (2).png\n",
      "data\\test\\wrong\\img_00070068.png\n"
     ]
    },
    {
     "name": "stderr",
     "output_type": "stream",
     "text": [
      " 27%|██▋       | 134/497 [00:10<00:27, 13.41it/s]"
     ]
    },
    {
     "name": "stdout",
     "output_type": "stream",
     "text": [
      "data\\test\\wrong\\img_00070069 (2).png\n",
      "data\\test\\wrong\\img_00070069.png\n",
      "data\\test\\wrong\\mb_img_00050057.png\n"
     ]
    },
    {
     "name": "stderr",
     "output_type": "stream",
     "text": [
      " 28%|██▊       | 138/497 [00:10<00:25, 13.82it/s]"
     ]
    },
    {
     "name": "stdout",
     "output_type": "stream",
     "text": [
      "data\\test\\wrong\\mb_img_00050072.png\n",
      "data\\test\\wrong\\mb_img_00070050.png\n",
      "data\\test\\wrong\\mb_img_00070070.png\n"
     ]
    },
    {
     "name": "stderr",
     "output_type": "stream",
     "text": [
      " 28%|██▊       | 140/497 [00:10<00:25, 14.28it/s]"
     ]
    },
    {
     "name": "stdout",
     "output_type": "stream",
     "text": [
      "data\\test\\wrong\\mb_img_00070071.png\n",
      "data\\test\\wrong\\mb_img_00070072.png\n",
      "data\\test\\wrong\\mb_img_00100072.png\n"
     ]
    },
    {
     "name": "stderr",
     "output_type": "stream",
     "text": [
      " 29%|██▉       | 144/497 [00:10<00:25, 14.11it/s]"
     ]
    },
    {
     "name": "stdout",
     "output_type": "stream",
     "text": [
      "data\\train\\correct\\an_img_00050074.png\n",
      "data\\train\\correct\\an_img_00050075.png\n",
      "data\\train\\correct\\an_img_00050076.png\n"
     ]
    },
    {
     "name": "stderr",
     "output_type": "stream",
     "text": [
      " 29%|██▉       | 146/497 [00:10<00:25, 13.74it/s]"
     ]
    },
    {
     "name": "stdout",
     "output_type": "stream",
     "text": [
      "data\\train\\correct\\an_img_00070049.png\n",
      "data\\train\\correct\\an_img_00070056.png\n",
      "data\\train\\correct\\an_img_00070062.png\n"
     ]
    },
    {
     "name": "stderr",
     "output_type": "stream",
     "text": [
      " 30%|███       | 150/497 [00:11<00:25, 13.69it/s]"
     ]
    },
    {
     "name": "stdout",
     "output_type": "stream",
     "text": [
      "data\\train\\correct\\an_img_00070063.png\n",
      "data\\train\\correct\\an_img_00070064.png\n",
      "data\\train\\correct\\an_img_00070065.png\n"
     ]
    },
    {
     "name": "stderr",
     "output_type": "stream",
     "text": [
      " 31%|███       | 152/497 [00:11<00:25, 13.70it/s]"
     ]
    },
    {
     "name": "stdout",
     "output_type": "stream",
     "text": [
      "data\\train\\correct\\an_img_00070066.png\n",
      "data\\train\\correct\\an_img_00100023.png\n",
      "data\\train\\correct\\an_img_00100050.png\n"
     ]
    },
    {
     "name": "stderr",
     "output_type": "stream",
     "text": [
      " 31%|███▏      | 156/497 [00:11<00:24, 13.69it/s]"
     ]
    },
    {
     "name": "stdout",
     "output_type": "stream",
     "text": [
      "data\\train\\correct\\an_img_00100057.png\n",
      "data\\train\\correct\\an_img_00100065.png\n",
      "data\\train\\correct\\an_img_00100066.png\n"
     ]
    },
    {
     "name": "stderr",
     "output_type": "stream",
     "text": [
      " 32%|███▏      | 158/497 [00:11<00:25, 13.29it/s]"
     ]
    },
    {
     "name": "stdout",
     "output_type": "stream",
     "text": [
      "data\\train\\correct\\an_img_00100067.png\n",
      "data\\train\\correct\\an_img_00100068.png\n",
      "data\\train\\correct\\an_img_00100069.png\n"
     ]
    },
    {
     "name": "stderr",
     "output_type": "stream",
     "text": [
      " 33%|███▎      | 162/497 [00:12<00:24, 13.57it/s]"
     ]
    },
    {
     "name": "stdout",
     "output_type": "stream",
     "text": [
      "data\\train\\correct\\an_img_00100070.png\n",
      "data\\train\\correct\\an_img_00100071.png\n",
      "data\\train\\correct\\an_img_00110013.png\n"
     ]
    },
    {
     "name": "stderr",
     "output_type": "stream",
     "text": [
      " 33%|███▎      | 166/497 [00:12<00:24, 13.73it/s]"
     ]
    },
    {
     "name": "stdout",
     "output_type": "stream",
     "text": [
      "data\\train\\correct\\an_img_00110014.png\n",
      "data\\train\\correct\\an_img_00110015.png\n",
      "data\\train\\correct\\an_img_00110016.png\n",
      "data\\train\\correct\\an_img_00110020.png\n"
     ]
    },
    {
     "name": "stderr",
     "output_type": "stream",
     "text": [
      " 34%|███▍      | 168/497 [00:12<00:23, 13.76it/s]"
     ]
    },
    {
     "name": "stdout",
     "output_type": "stream",
     "text": [
      "data\\train\\correct\\an_img_00110021.png\n",
      "data\\train\\correct\\an_img_00110055.png\n",
      "data\\train\\correct\\an_img_00110061.png\n"
     ]
    },
    {
     "name": "stderr",
     "output_type": "stream",
     "text": [
      " 35%|███▍      | 172/497 [00:12<00:23, 13.74it/s]"
     ]
    },
    {
     "name": "stdout",
     "output_type": "stream",
     "text": [
      "data\\train\\correct\\an_img_00110067.png\n",
      "data\\train\\correct\\an_img_00110068.png\n",
      "data\\train\\correct\\an_img_00110069.png\n"
     ]
    },
    {
     "name": "stderr",
     "output_type": "stream",
     "text": [
      " 35%|███▌      | 174/497 [00:12<00:23, 13.54it/s]"
     ]
    },
    {
     "name": "stdout",
     "output_type": "stream",
     "text": [
      "data\\train\\correct\\an_img_00110070.png\n",
      "data\\train\\correct\\an_img_00110071.png\n",
      "data\\train\\correct\\an_img_00110076.png\n"
     ]
    },
    {
     "name": "stderr",
     "output_type": "stream",
     "text": [
      " 36%|███▌      | 178/497 [00:13<00:22, 13.89it/s]"
     ]
    },
    {
     "name": "stdout",
     "output_type": "stream",
     "text": [
      "data\\train\\correct\\an_img_00110077.png\n",
      "data\\train\\correct\\an_img_00110078.png\n",
      "data\\train\\correct\\an_img_00130014.png\n"
     ]
    },
    {
     "name": "stderr",
     "output_type": "stream",
     "text": [
      " 36%|███▌      | 180/497 [00:13<00:22, 13.80it/s]"
     ]
    },
    {
     "name": "stdout",
     "output_type": "stream",
     "text": [
      "data\\train\\correct\\br_img_00050013.png\n",
      "data\\train\\correct\\br_img_00050015.png\n",
      "data\\train\\correct\\br_img_00050018.png\n"
     ]
    },
    {
     "name": "stderr",
     "output_type": "stream",
     "text": [
      " 37%|███▋      | 184/497 [00:13<00:22, 14.03it/s]"
     ]
    },
    {
     "name": "stdout",
     "output_type": "stream",
     "text": [
      "data\\train\\correct\\br_img_00100057.png\n",
      "data\\train\\correct\\br_img_00100065.png\n",
      "data\\train\\correct\\br_img_00100069.png\n"
     ]
    },
    {
     "name": "stderr",
     "output_type": "stream",
     "text": [
      " 37%|███▋      | 186/497 [00:13<00:22, 13.87it/s]"
     ]
    },
    {
     "name": "stdout",
     "output_type": "stream",
     "text": [
      "data\\train\\correct\\br_img_00110013.png\n",
      "data\\train\\correct\\br_img_00110014.png\n",
      "data\\train\\correct\\br_img_00110015.png\n"
     ]
    },
    {
     "name": "stderr",
     "output_type": "stream",
     "text": [
      " 38%|███▊      | 190/497 [00:14<00:22, 13.89it/s]"
     ]
    },
    {
     "name": "stdout",
     "output_type": "stream",
     "text": [
      "data\\train\\correct\\br_img_00110055.png\n",
      "data\\train\\correct\\br_img_00110061.png\n",
      "data\\train\\correct\\br_img_00110067.png\n"
     ]
    },
    {
     "name": "stderr",
     "output_type": "stream",
     "text": [
      " 39%|███▊      | 192/497 [00:14<00:22, 13.44it/s]"
     ]
    },
    {
     "name": "stdout",
     "output_type": "stream",
     "text": [
      "data\\train\\correct\\br_img_00110068.png\n",
      "data\\train\\correct\\br_img_00110069.png\n",
      "data\\train\\correct\\br_img_00110070.png\n"
     ]
    },
    {
     "name": "stderr",
     "output_type": "stream",
     "text": [
      " 39%|███▉      | 196/497 [00:14<00:23, 13.03it/s]"
     ]
    },
    {
     "name": "stdout",
     "output_type": "stream",
     "text": [
      "data\\train\\correct\\br_img_00110071.png\n",
      "data\\train\\correct\\br_img_00110072.png\n",
      "data\\train\\correct\\br_img_00110078.png\n"
     ]
    },
    {
     "name": "stderr",
     "output_type": "stream",
     "text": [
      " 40%|███▉      | 198/497 [00:14<00:23, 12.90it/s]"
     ]
    },
    {
     "name": "stdout",
     "output_type": "stream",
     "text": [
      "data\\train\\correct\\br_img_00130014.png\n",
      "data\\train\\correct\\br_img_00130065.png\n",
      "data\\train\\correct\\gb_img_00050013.png\n"
     ]
    },
    {
     "name": "stderr",
     "output_type": "stream",
     "text": [
      " 41%|████      | 202/497 [00:15<00:22, 13.37it/s]"
     ]
    },
    {
     "name": "stdout",
     "output_type": "stream",
     "text": [
      "data\\train\\correct\\gb_img_00050014.png\n",
      "data\\train\\correct\\gb_img_00050015.png\n",
      "data\\train\\correct\\gb_img_00070063.png\n"
     ]
    },
    {
     "name": "stderr",
     "output_type": "stream",
     "text": [
      " 41%|████      | 204/497 [00:15<00:22, 13.11it/s]"
     ]
    },
    {
     "name": "stdout",
     "output_type": "stream",
     "text": [
      "data\\train\\correct\\gb_img_00070064.png\n",
      "data\\train\\correct\\gb_img_00070065.png\n",
      "data\\train\\correct\\gb_img_00070066.png\n"
     ]
    },
    {
     "name": "stderr",
     "output_type": "stream",
     "text": [
      " 42%|████▏     | 208/497 [00:15<00:22, 12.65it/s]"
     ]
    },
    {
     "name": "stdout",
     "output_type": "stream",
     "text": [
      "data\\train\\correct\\gb_img_00100057.png\n",
      "data\\train\\correct\\gb_img_00100065.png\n",
      "data\\train\\correct\\gb_img_00100066.png\n"
     ]
    },
    {
     "name": "stderr",
     "output_type": "stream",
     "text": [
      " 42%|████▏     | 210/497 [00:15<00:22, 12.83it/s]"
     ]
    },
    {
     "name": "stdout",
     "output_type": "stream",
     "text": [
      "data\\train\\correct\\gb_img_00100067.png\n",
      "data\\train\\correct\\gb_img_00100068.png\n",
      "data\\train\\correct\\gb_img_00100069.png\n"
     ]
    },
    {
     "name": "stderr",
     "output_type": "stream",
     "text": [
      " 43%|████▎     | 214/497 [00:15<00:21, 13.07it/s]"
     ]
    },
    {
     "name": "stdout",
     "output_type": "stream",
     "text": [
      "data\\train\\correct\\gb_img_00100070.png\n",
      "data\\train\\correct\\gb_img_00100071.png\n",
      "data\\train\\correct\\gb_img_00110013.png\n"
     ]
    },
    {
     "name": "stderr",
     "output_type": "stream",
     "text": [
      " 43%|████▎     | 216/497 [00:16<00:21, 12.98it/s]"
     ]
    },
    {
     "name": "stdout",
     "output_type": "stream",
     "text": [
      "data\\train\\correct\\gb_img_00110014.png\n",
      "data\\train\\correct\\gb_img_00110015.png\n",
      "data\\train\\correct\\gb_img_00110062.png\n"
     ]
    },
    {
     "name": "stderr",
     "output_type": "stream",
     "text": [
      " 44%|████▍     | 220/497 [00:16<00:21, 12.77it/s]"
     ]
    },
    {
     "name": "stdout",
     "output_type": "stream",
     "text": [
      "data\\train\\correct\\gb_img_00110067.png\n",
      "data\\train\\correct\\gb_img_00110068.png\n",
      "data\\train\\correct\\gb_img_00110069.png\n"
     ]
    },
    {
     "name": "stderr",
     "output_type": "stream",
     "text": [
      " 45%|████▍     | 222/497 [00:16<00:21, 12.66it/s]"
     ]
    },
    {
     "name": "stdout",
     "output_type": "stream",
     "text": [
      "data\\train\\correct\\gb_img_00110070.png\n",
      "data\\train\\correct\\gb_img_00110071.png\n"
     ]
    },
    {
     "name": "stderr",
     "output_type": "stream",
     "text": [
      " 45%|████▌     | 224/497 [00:16<00:24, 10.97it/s]"
     ]
    },
    {
     "name": "stdout",
     "output_type": "stream",
     "text": [
      "data\\train\\correct\\gb_img_00110072.png\n",
      "data\\train\\correct\\gb_img_00130014.png\n"
     ]
    },
    {
     "name": "stderr",
     "output_type": "stream",
     "text": [
      " 45%|████▌     | 226/497 [00:17<00:24, 10.88it/s]"
     ]
    },
    {
     "name": "stdout",
     "output_type": "stream",
     "text": [
      "data\\train\\correct\\image0.jpg\n",
      "data\\train\\correct\\image1.jpg\n",
      "data\\train\\correct\\image10.jpg\n"
     ]
    },
    {
     "name": "stderr",
     "output_type": "stream",
     "text": [
      " 46%|████▋     | 230/497 [00:17<00:21, 12.51it/s]"
     ]
    },
    {
     "name": "stdout",
     "output_type": "stream",
     "text": [
      "data\\train\\correct\\image111.jpg\n",
      "data\\train\\correct\\image13.jpg\n",
      "data\\train\\correct\\image147.jpg\n"
     ]
    },
    {
     "name": "stderr",
     "output_type": "stream",
     "text": [
      " 47%|████▋     | 234/497 [00:17<00:19, 13.84it/s]"
     ]
    },
    {
     "name": "stdout",
     "output_type": "stream",
     "text": [
      "data\\train\\correct\\image148.jpg\n",
      "data\\train\\correct\\image150.jpg\n",
      "data\\train\\correct\\image151.jpg\n",
      "data\\train\\correct\\image173.jpg\n"
     ]
    },
    {
     "name": "stderr",
     "output_type": "stream",
     "text": [
      " 48%|████▊     | 238/497 [00:17<00:17, 14.63it/s]"
     ]
    },
    {
     "name": "stdout",
     "output_type": "stream",
     "text": [
      "data\\train\\correct\\image174.jpg\n",
      "data\\train\\correct\\image176.jpg\n",
      "data\\train\\correct\\image177.jpg\n",
      "data\\train\\correct\\image178.jpg\n"
     ]
    },
    {
     "name": "stderr",
     "output_type": "stream",
     "text": [
      " 48%|████▊     | 240/497 [00:17<00:17, 14.71it/s]"
     ]
    },
    {
     "name": "stdout",
     "output_type": "stream",
     "text": [
      "data\\train\\correct\\image181.jpg\n",
      "data\\train\\correct\\image182.jpg\n",
      "data\\train\\correct\\image187.jpg\n"
     ]
    },
    {
     "name": "stderr",
     "output_type": "stream",
     "text": [
      " 49%|████▉     | 244/497 [00:18<00:17, 14.32it/s]"
     ]
    },
    {
     "name": "stdout",
     "output_type": "stream",
     "text": [
      "data\\train\\correct\\image189.jpg\n",
      "data\\train\\correct\\image191.jpg\n",
      "data\\train\\correct\\image192.jpg\n"
     ]
    },
    {
     "name": "stderr",
     "output_type": "stream",
     "text": [
      " 49%|████▉     | 246/497 [00:18<00:17, 14.38it/s]"
     ]
    },
    {
     "name": "stdout",
     "output_type": "stream",
     "text": [
      "data\\train\\correct\\image193.jpg\n",
      "data\\train\\correct\\image194.jpg\n",
      "data\\train\\correct\\image195.jpg\n"
     ]
    },
    {
     "name": "stderr",
     "output_type": "stream",
     "text": [
      " 50%|█████     | 250/497 [00:18<00:17, 14.23it/s]"
     ]
    },
    {
     "name": "stdout",
     "output_type": "stream",
     "text": [
      "data\\train\\correct\\image199.jpg\n",
      "data\\train\\correct\\image2.jpg\n",
      "data\\train\\correct\\image24.jpg\n"
     ]
    },
    {
     "name": "stderr",
     "output_type": "stream",
     "text": [
      " 51%|█████     | 252/497 [00:18<00:19, 12.86it/s]"
     ]
    },
    {
     "name": "stdout",
     "output_type": "stream",
     "text": [
      "data\\train\\correct\\image25.jpg\n",
      "data\\train\\correct\\image26.jpg\n",
      "data\\train\\correct\\image27.jpg\n"
     ]
    },
    {
     "name": "stderr",
     "output_type": "stream",
     "text": [
      " 52%|█████▏    | 256/497 [00:19<00:21, 11.34it/s]"
     ]
    },
    {
     "name": "stdout",
     "output_type": "stream",
     "text": [
      "data\\train\\correct\\image28.jpg\n",
      "data\\train\\correct\\image29.jpg\n",
      "data\\train\\correct\\image3.jpg\n"
     ]
    },
    {
     "name": "stderr",
     "output_type": "stream",
     "text": [
      " 52%|█████▏    | 258/497 [00:19<00:19, 12.03it/s]"
     ]
    },
    {
     "name": "stdout",
     "output_type": "stream",
     "text": [
      "data\\train\\correct\\image32.jpg\n",
      "data\\train\\correct\\image35.jpg\n",
      "data\\train\\correct\\image36.jpg\n"
     ]
    },
    {
     "name": "stderr",
     "output_type": "stream",
     "text": [
      " 53%|█████▎    | 262/497 [00:19<00:17, 13.53it/s]"
     ]
    },
    {
     "name": "stdout",
     "output_type": "stream",
     "text": [
      "data\\train\\correct\\image37.jpg\n",
      "data\\train\\correct\\image38.jpg\n",
      "data\\train\\correct\\image39.jpg\n",
      "data\\train\\correct\\image40.jpg\n"
     ]
    },
    {
     "name": "stderr",
     "output_type": "stream",
     "text": [
      " 54%|█████▎    | 266/497 [00:19<00:16, 13.79it/s]"
     ]
    },
    {
     "name": "stdout",
     "output_type": "stream",
     "text": [
      "data\\train\\correct\\image41.jpg\n",
      "data\\train\\correct\\image42.jpg\n",
      "data\\train\\correct\\image5.jpg\n"
     ]
    },
    {
     "name": "stderr",
     "output_type": "stream",
     "text": [
      " 54%|█████▍    | 268/497 [00:20<00:16, 14.02it/s]"
     ]
    },
    {
     "name": "stdout",
     "output_type": "stream",
     "text": [
      "data\\train\\correct\\image6.jpg\n",
      "data\\train\\correct\\image7.jpg\n",
      "data\\train\\correct\\image8.jpg\n"
     ]
    },
    {
     "name": "stderr",
     "output_type": "stream",
     "text": [
      " 55%|█████▍    | 272/497 [00:20<00:16, 13.83it/s]"
     ]
    },
    {
     "name": "stdout",
     "output_type": "stream",
     "text": [
      "data\\train\\correct\\image9.jpg\n",
      "data\\train\\correct\\img_00070048 (2).png\n",
      "data\\train\\correct\\img_00070048.png\n"
     ]
    },
    {
     "name": "stderr",
     "output_type": "stream",
     "text": [
      " 55%|█████▌    | 274/497 [00:20<00:16, 13.23it/s]"
     ]
    },
    {
     "name": "stdout",
     "output_type": "stream",
     "text": [
      "data\\train\\correct\\img_00070049 (2).png\n",
      "data\\train\\correct\\img_00070049.png\n"
     ]
    },
    {
     "name": "stderr",
     "output_type": "stream",
     "text": [
      " 56%|█████▌    | 276/497 [00:20<00:21, 10.18it/s]"
     ]
    },
    {
     "name": "stdout",
     "output_type": "stream",
     "text": [
      "data\\train\\correct\\img_00070062 (2).png\n",
      "data\\train\\correct\\img_00070062.png\n"
     ]
    },
    {
     "name": "stderr",
     "output_type": "stream",
     "text": [
      " 56%|█████▌    | 278/497 [00:21<00:24,  9.09it/s]"
     ]
    },
    {
     "name": "stdout",
     "output_type": "stream",
     "text": [
      "data\\train\\correct\\img_00070063 (2).png\n",
      "data\\train\\correct\\img_00070063.png\n"
     ]
    },
    {
     "name": "stderr",
     "output_type": "stream",
     "text": [
      " 56%|█████▋    | 280/497 [00:21<00:23,  9.06it/s]"
     ]
    },
    {
     "name": "stdout",
     "output_type": "stream",
     "text": [
      "data\\train\\correct\\img_00070065 (2).png\n",
      "data\\train\\correct\\img_00070065.png\n",
      "data\\train\\correct\\img_00070066 (2).png\n"
     ]
    },
    {
     "name": "stderr",
     "output_type": "stream",
     "text": [
      " 57%|█████▋    | 283/497 [00:21<00:24,  8.74it/s]"
     ]
    },
    {
     "name": "stdout",
     "output_type": "stream",
     "text": [
      "data\\train\\correct\\img_00070066.png\n",
      "data\\train\\correct\\img_00100069 (2).png\n"
     ]
    },
    {
     "name": "stderr",
     "output_type": "stream",
     "text": [
      " 57%|█████▋    | 285/497 [00:21<00:27,  7.58it/s]"
     ]
    },
    {
     "name": "stdout",
     "output_type": "stream",
     "text": [
      "data\\train\\correct\\img_00100069.png\n",
      "data\\train\\correct\\img_00110013.png\n"
     ]
    },
    {
     "name": "stderr",
     "output_type": "stream",
     "text": [
      " 58%|█████▊    | 287/497 [00:22<00:29,  7.19it/s]"
     ]
    },
    {
     "name": "stdout",
     "output_type": "stream",
     "text": [
      "data\\train\\correct\\img_00110014 (2).png\n",
      "data\\train\\correct\\img_00110014.png\n"
     ]
    },
    {
     "name": "stderr",
     "output_type": "stream",
     "text": [
      " 58%|█████▊    | 289/497 [00:22<00:28,  7.30it/s]"
     ]
    },
    {
     "name": "stdout",
     "output_type": "stream",
     "text": [
      "data\\train\\correct\\img_00110055 (2).png\n",
      "data\\train\\correct\\img_00110055.png\n"
     ]
    },
    {
     "name": "stderr",
     "output_type": "stream",
     "text": [
      " 59%|█████▊    | 291/497 [00:22<00:26,  7.92it/s]"
     ]
    },
    {
     "name": "stdout",
     "output_type": "stream",
     "text": [
      "data\\train\\correct\\img_00110056.png\n",
      "data\\train\\correct\\img_00110061.png\n"
     ]
    },
    {
     "name": "stderr",
     "output_type": "stream",
     "text": [
      " 59%|█████▉    | 293/497 [00:23<00:28,  7.15it/s]"
     ]
    },
    {
     "name": "stdout",
     "output_type": "stream",
     "text": [
      "data\\train\\correct\\img_00110067 (2).png\n",
      "data\\train\\correct\\img_00110067.png\n"
     ]
    },
    {
     "name": "stderr",
     "output_type": "stream",
     "text": [
      " 59%|█████▉    | 295/497 [00:23<00:30,  6.70it/s]"
     ]
    },
    {
     "name": "stdout",
     "output_type": "stream",
     "text": [
      "data\\train\\correct\\img_00110068 (2).png\n",
      "data\\train\\correct\\img_00110068.png\n"
     ]
    },
    {
     "name": "stderr",
     "output_type": "stream",
     "text": [
      " 60%|█████▉    | 297/497 [00:23<00:29,  6.88it/s]"
     ]
    },
    {
     "name": "stdout",
     "output_type": "stream",
     "text": [
      "data\\train\\correct\\img_00110069 (2).png\n",
      "data\\train\\correct\\img_00110069.png\n"
     ]
    },
    {
     "name": "stderr",
     "output_type": "stream",
     "text": [
      " 60%|██████    | 299/497 [00:24<00:29,  6.78it/s]"
     ]
    },
    {
     "name": "stdout",
     "output_type": "stream",
     "text": [
      "data\\train\\correct\\img_00110070 (2).png\n",
      "data\\train\\correct\\img_00110070.png\n"
     ]
    },
    {
     "name": "stderr",
     "output_type": "stream",
     "text": [
      " 61%|██████    | 301/497 [00:24<00:28,  6.86it/s]"
     ]
    },
    {
     "name": "stdout",
     "output_type": "stream",
     "text": [
      "data\\train\\correct\\img_00110071 (2).png\n",
      "data\\train\\correct\\img_00110071.png\n"
     ]
    },
    {
     "name": "stderr",
     "output_type": "stream",
     "text": [
      " 61%|██████    | 303/497 [00:24<00:30,  6.36it/s]"
     ]
    },
    {
     "name": "stdout",
     "output_type": "stream",
     "text": [
      "data\\train\\correct\\img_00110072 - Copy (2).png\n",
      "data\\train\\correct\\img_00110072 - Copy.png\n"
     ]
    },
    {
     "name": "stderr",
     "output_type": "stream",
     "text": [
      " 61%|██████▏   | 305/497 [00:24<00:29,  6.46it/s]"
     ]
    },
    {
     "name": "stdout",
     "output_type": "stream",
     "text": [
      "data\\train\\correct\\img_00110078 - Copy (2).png\n",
      "data\\train\\correct\\img_00110078 - Copy.png\n"
     ]
    },
    {
     "name": "stderr",
     "output_type": "stream",
     "text": [
      " 62%|██████▏   | 307/497 [00:25<00:30,  6.23it/s]"
     ]
    },
    {
     "name": "stdout",
     "output_type": "stream",
     "text": [
      "data\\train\\correct\\img_00130014 (2).png\n",
      "data\\train\\correct\\img_00130014.png\n"
     ]
    },
    {
     "name": "stderr",
     "output_type": "stream",
     "text": [
      " 62%|██████▏   | 309/497 [00:25<00:26,  6.98it/s]"
     ]
    },
    {
     "name": "stdout",
     "output_type": "stream",
     "text": [
      "data\\train\\correct\\img_00130065 (2).png\n",
      "data\\train\\correct\\img_00130065.png\n"
     ]
    },
    {
     "name": "stderr",
     "output_type": "stream",
     "text": [
      " 62%|██████▏   | 310/497 [00:25<00:24,  7.61it/s]"
     ]
    },
    {
     "name": "stdout",
     "output_type": "stream",
     "text": [
      "data\\train\\correct\\mb_img_00050013.png\n",
      "data\\train\\correct\\mb_img_00050015.png\n"
     ]
    },
    {
     "name": "stderr",
     "output_type": "stream",
     "text": [
      " 63%|██████▎   | 313/497 [00:26<00:23,  7.76it/s]"
     ]
    },
    {
     "name": "stdout",
     "output_type": "stream",
     "text": [
      "data\\train\\correct\\mb_img_00050061.png\n",
      "data\\train\\correct\\mb_img_00050069.png\n"
     ]
    },
    {
     "name": "stderr",
     "output_type": "stream",
     "text": [
      " 64%|██████▎   | 316/497 [00:26<00:18,  9.63it/s]"
     ]
    },
    {
     "name": "stdout",
     "output_type": "stream",
     "text": [
      "data\\train\\correct\\mb_img_00050074.png\n",
      "data\\train\\correct\\mb_img_00050075.png\n",
      "data\\train\\correct\\mb_img_00050076.png\n"
     ]
    },
    {
     "name": "stderr",
     "output_type": "stream",
     "text": [
      " 64%|██████▍   | 318/497 [00:26<00:16, 10.83it/s]"
     ]
    },
    {
     "name": "stdout",
     "output_type": "stream",
     "text": [
      "data\\train\\correct\\mb_img_00070049.png\n",
      "data\\train\\correct\\mb_img_00070061.png\n",
      "data\\train\\correct\\mb_img_00070062.png\n"
     ]
    },
    {
     "name": "stderr",
     "output_type": "stream",
     "text": [
      " 65%|██████▍   | 322/497 [00:26<00:14, 11.90it/s]"
     ]
    },
    {
     "name": "stdout",
     "output_type": "stream",
     "text": [
      "data\\train\\correct\\mb_img_00070063.png\n",
      "data\\train\\correct\\mb_img_00070064.png\n",
      "data\\train\\correct\\mb_img_00070065.png\n"
     ]
    },
    {
     "name": "stderr",
     "output_type": "stream",
     "text": [
      " 65%|██████▌   | 324/497 [00:26<00:14, 12.21it/s]"
     ]
    },
    {
     "name": "stdout",
     "output_type": "stream",
     "text": [
      "data\\train\\correct\\mb_img_00070066.png\n",
      "data\\train\\correct\\mb_img_00100057.png\n",
      "data\\train\\correct\\mb_img_00100058.png\n"
     ]
    },
    {
     "name": "stderr",
     "output_type": "stream",
     "text": [
      " 66%|██████▌   | 328/497 [00:27<00:13, 12.41it/s]"
     ]
    },
    {
     "name": "stdout",
     "output_type": "stream",
     "text": [
      "data\\train\\correct\\mb_img_00100064.png\n",
      "data\\train\\correct\\mb_img_00100065.png\n",
      "data\\train\\correct\\mb_img_00100066.png\n"
     ]
    },
    {
     "name": "stderr",
     "output_type": "stream",
     "text": [
      " 66%|██████▋   | 330/497 [00:27<00:13, 12.41it/s]"
     ]
    },
    {
     "name": "stdout",
     "output_type": "stream",
     "text": [
      "data\\train\\correct\\mb_img_00100068.png\n",
      "data\\train\\correct\\mb_img_00100069.png\n",
      "data\\train\\correct\\mb_img_00100070.png\n"
     ]
    },
    {
     "name": "stderr",
     "output_type": "stream",
     "text": [
      " 67%|██████▋   | 334/497 [00:27<00:12, 12.87it/s]"
     ]
    },
    {
     "name": "stdout",
     "output_type": "stream",
     "text": [
      "data\\train\\correct\\mb_img_00100071.png\n",
      "data\\train\\correct\\mb_img_00110013.png\n",
      "data\\train\\correct\\mb_img_00110014.png\n"
     ]
    },
    {
     "name": "stderr",
     "output_type": "stream",
     "text": [
      " 68%|██████▊   | 336/497 [00:27<00:12, 12.58it/s]"
     ]
    },
    {
     "name": "stdout",
     "output_type": "stream",
     "text": [
      "data\\train\\correct\\mb_img_00110015.png\n",
      "data\\train\\correct\\mb_img_00110016.png\n",
      "data\\train\\correct\\mb_img_00110021.png\n"
     ]
    },
    {
     "name": "stderr",
     "output_type": "stream",
     "text": [
      " 68%|██████▊   | 340/497 [00:28<00:12, 12.35it/s]"
     ]
    },
    {
     "name": "stdout",
     "output_type": "stream",
     "text": [
      "data\\train\\correct\\mb_img_00110067.png\n",
      "data\\train\\correct\\mb_img_00110068.png\n",
      "data\\train\\correct\\mb_img_00110069.png\n"
     ]
    },
    {
     "name": "stderr",
     "output_type": "stream",
     "text": [
      " 69%|██████▉   | 342/497 [00:28<00:12, 12.01it/s]"
     ]
    },
    {
     "name": "stdout",
     "output_type": "stream",
     "text": [
      "data\\train\\correct\\mb_img_00110070.png\n",
      "data\\train\\wrong\\an_img_00050014.png\n",
      "data\\train\\wrong\\an_img_00050057.png\n"
     ]
    },
    {
     "name": "stderr",
     "output_type": "stream",
     "text": [
      " 70%|██████▉   | 346/497 [00:28<00:12, 12.12it/s]"
     ]
    },
    {
     "name": "stdout",
     "output_type": "stream",
     "text": [
      "data\\train\\wrong\\an_img_00050059.png\n",
      "data\\train\\wrong\\an_img_00050060.png\n",
      "data\\train\\wrong\\an_img_00050068.png\n"
     ]
    },
    {
     "name": "stderr",
     "output_type": "stream",
     "text": [
      " 70%|███████   | 348/497 [00:28<00:12, 11.94it/s]"
     ]
    },
    {
     "name": "stdout",
     "output_type": "stream",
     "text": [
      "data\\train\\wrong\\an_img_00070050.png\n",
      "data\\train\\wrong\\an_img_00070051.png\n",
      "data\\train\\wrong\\an_img_00070052.png\n"
     ]
    },
    {
     "name": "stderr",
     "output_type": "stream",
     "text": [
      " 70%|███████   | 350/497 [00:28<00:12, 12.23it/s]"
     ]
    },
    {
     "name": "stdout",
     "output_type": "stream",
     "text": [
      "data\\train\\wrong\\an_img_00070053.png\n",
      "data\\train\\wrong\\an_img_00070054.png\n"
     ]
    },
    {
     "name": "stderr",
     "output_type": "stream",
     "text": [
      " 71%|███████   | 352/497 [00:29<00:13, 10.65it/s]"
     ]
    },
    {
     "name": "stdout",
     "output_type": "stream",
     "text": [
      "data\\train\\wrong\\an_img_00070055.png\n",
      "data\\train\\wrong\\an_img_00070067.png\n"
     ]
    },
    {
     "name": "stderr",
     "output_type": "stream",
     "text": [
      " 72%|███████▏  | 356/497 [00:29<00:13, 10.15it/s]"
     ]
    },
    {
     "name": "stdout",
     "output_type": "stream",
     "text": [
      "data\\train\\wrong\\an_img_00070068.png\n",
      "data\\train\\wrong\\an_img_00070069.png\n",
      "data\\train\\wrong\\an_img_00070070.png\n"
     ]
    },
    {
     "name": "stderr",
     "output_type": "stream",
     "text": [
      " 72%|███████▏  | 358/497 [00:29<00:13, 10.04it/s]"
     ]
    },
    {
     "name": "stdout",
     "output_type": "stream",
     "text": [
      "data\\train\\wrong\\an_img_00070071.png\n",
      "data\\train\\wrong\\an_img_00070072.png\n"
     ]
    },
    {
     "name": "stderr",
     "output_type": "stream",
     "text": [
      " 72%|███████▏  | 360/497 [00:30<00:14,  9.37it/s]"
     ]
    },
    {
     "name": "stdout",
     "output_type": "stream",
     "text": [
      "data\\train\\wrong\\an_img_00100015.png\n",
      "data\\train\\wrong\\an_img_00100016.png\n",
      "data\\train\\wrong\\an_img_00100017.png\n"
     ]
    },
    {
     "name": "stderr",
     "output_type": "stream",
     "text": [
      " 73%|███████▎  | 364/497 [00:30<00:12, 10.70it/s]"
     ]
    },
    {
     "name": "stdout",
     "output_type": "stream",
     "text": [
      "data\\train\\wrong\\an_img_00100018.png\n",
      "data\\train\\wrong\\an_img_00100021.png\n",
      "data\\train\\wrong\\an_img_00100022.png\n"
     ]
    },
    {
     "name": "stderr",
     "output_type": "stream",
     "text": [
      " 74%|███████▎  | 366/497 [00:30<00:13,  9.66it/s]"
     ]
    },
    {
     "name": "stdout",
     "output_type": "stream",
     "text": [
      "data\\train\\wrong\\an_img_00100024.png\n",
      "data\\train\\wrong\\an_img_00100049.png\n"
     ]
    },
    {
     "name": "stderr",
     "output_type": "stream",
     "text": [
      " 74%|███████▍  | 368/497 [00:30<00:14,  8.69it/s]"
     ]
    },
    {
     "name": "stdout",
     "output_type": "stream",
     "text": [
      "data\\train\\wrong\\an_img_00100051.png\n",
      "data\\train\\wrong\\an_img_00100052.png\n"
     ]
    },
    {
     "name": "stderr",
     "output_type": "stream",
     "text": [
      " 74%|███████▍  | 370/497 [00:31<00:14,  8.81it/s]"
     ]
    },
    {
     "name": "stdout",
     "output_type": "stream",
     "text": [
      "data\\train\\wrong\\an_img_00100053.png\n",
      "data\\train\\wrong\\an_img_00100058.png\n",
      "data\\train\\wrong\\an_img_00100064.png\n"
     ]
    },
    {
     "name": "stderr",
     "output_type": "stream",
     "text": [
      " 75%|███████▌  | 373/497 [00:31<00:14,  8.51it/s]"
     ]
    },
    {
     "name": "stdout",
     "output_type": "stream",
     "text": [
      "data\\train\\wrong\\an_img_00100072.png\n",
      "data\\train\\wrong\\an_img_00110022.png\n"
     ]
    },
    {
     "name": "stderr",
     "output_type": "stream",
     "text": [
      " 75%|███████▌  | 375/497 [00:31<00:15,  7.86it/s]"
     ]
    },
    {
     "name": "stdout",
     "output_type": "stream",
     "text": [
      "data\\train\\wrong\\an_img_00110056.png\n",
      "data\\train\\wrong\\an_img_00130015.png\n"
     ]
    },
    {
     "name": "stderr",
     "output_type": "stream",
     "text": [
      " 76%|███████▌  | 377/497 [00:32<00:16,  7.43it/s]"
     ]
    },
    {
     "name": "stdout",
     "output_type": "stream",
     "text": [
      "data\\train\\wrong\\an_img_00130016.png\n",
      "data\\train\\wrong\\an_img_00130017.png\n"
     ]
    },
    {
     "name": "stderr",
     "output_type": "stream",
     "text": [
      " 76%|███████▋  | 379/497 [00:32<00:13,  8.75it/s]"
     ]
    },
    {
     "name": "stdout",
     "output_type": "stream",
     "text": [
      "data\\train\\wrong\\an_img_00130023.png\n",
      "data\\train\\wrong\\an_img_00130024.png\n",
      "data\\train\\wrong\\an_img_00130069.png\n"
     ]
    },
    {
     "name": "stderr",
     "output_type": "stream",
     "text": [
      " 77%|███████▋  | 383/497 [00:32<00:10, 10.94it/s]"
     ]
    },
    {
     "name": "stdout",
     "output_type": "stream",
     "text": [
      "data\\train\\wrong\\an_img_00130073.png\n",
      "data\\train\\wrong\\br_img_00050012.png\n",
      "data\\train\\wrong\\br_img_00050019.png\n"
     ]
    },
    {
     "name": "stderr",
     "output_type": "stream",
     "text": [
      " 77%|███████▋  | 385/497 [00:32<00:10, 11.20it/s]"
     ]
    },
    {
     "name": "stdout",
     "output_type": "stream",
     "text": [
      "data\\train\\wrong\\br_img_00050056.png\n",
      "data\\train\\wrong\\br_img_00050060.png\n",
      "data\\train\\wrong\\br_img_00050068.png\n"
     ]
    },
    {
     "name": "stderr",
     "output_type": "stream",
     "text": [
      " 78%|███████▊  | 389/497 [00:33<00:08, 12.17it/s]"
     ]
    },
    {
     "name": "stdout",
     "output_type": "stream",
     "text": [
      "data\\train\\wrong\\br_img_00070050.png\n",
      "data\\train\\wrong\\br_img_00070051.png\n",
      "data\\train\\wrong\\br_img_00070052.png\n"
     ]
    },
    {
     "name": "stderr",
     "output_type": "stream",
     "text": [
      " 79%|███████▊  | 391/497 [00:33<00:08, 12.64it/s]"
     ]
    },
    {
     "name": "stdout",
     "output_type": "stream",
     "text": [
      "data\\train\\wrong\\br_img_00070053.png\n",
      "data\\train\\wrong\\br_img_00070054.png\n",
      "data\\train\\wrong\\br_img_00070055.png\n"
     ]
    },
    {
     "name": "stderr",
     "output_type": "stream",
     "text": [
      " 79%|███████▉  | 395/497 [00:33<00:08, 11.76it/s]"
     ]
    },
    {
     "name": "stdout",
     "output_type": "stream",
     "text": [
      "data\\train\\wrong\\br_img_00070061.png\n",
      "data\\train\\wrong\\br_img_00070067.png\n",
      "data\\train\\wrong\\br_img_00070068.png\n"
     ]
    },
    {
     "name": "stderr",
     "output_type": "stream",
     "text": [
      " 80%|███████▉  | 397/497 [00:33<00:10,  9.99it/s]"
     ]
    },
    {
     "name": "stdout",
     "output_type": "stream",
     "text": [
      "data\\train\\wrong\\br_img_00070069.png\n",
      "data\\train\\wrong\\br_img_00070070.png\n"
     ]
    },
    {
     "name": "stderr",
     "output_type": "stream",
     "text": [
      " 80%|████████  | 399/497 [00:34<00:11,  8.69it/s]"
     ]
    },
    {
     "name": "stdout",
     "output_type": "stream",
     "text": [
      "data\\train\\wrong\\br_img_00070071.png\n",
      "data\\train\\wrong\\br_img_00070072.png\n"
     ]
    },
    {
     "name": "stderr",
     "output_type": "stream",
     "text": [
      " 81%|████████  | 401/497 [00:34<00:09,  9.70it/s]"
     ]
    },
    {
     "name": "stdout",
     "output_type": "stream",
     "text": [
      "data\\train\\wrong\\br_img_00100022.png\n",
      "data\\train\\wrong\\gb_img_00050017.png\n",
      "data\\train\\wrong\\gb_img_00050018.png\n"
     ]
    },
    {
     "name": "stderr",
     "output_type": "stream",
     "text": [
      " 81%|████████▏ | 405/497 [00:34<00:08, 10.82it/s]"
     ]
    },
    {
     "name": "stdout",
     "output_type": "stream",
     "text": [
      "data\\train\\wrong\\gb_img_00050019.png\n",
      "data\\train\\wrong\\gb_img_00050059.png\n",
      "data\\train\\wrong\\gb_img_00050060.png\n"
     ]
    },
    {
     "name": "stderr",
     "output_type": "stream",
     "text": [
      " 82%|████████▏ | 407/497 [00:34<00:09,  9.36it/s]"
     ]
    },
    {
     "name": "stdout",
     "output_type": "stream",
     "text": [
      "data\\train\\wrong\\gb_img_00050062.png\n",
      "data\\train\\wrong\\gb_img_00050064.png\n"
     ]
    },
    {
     "name": "stderr",
     "output_type": "stream",
     "text": [
      " 82%|████████▏ | 409/497 [00:35<00:10,  8.25it/s]"
     ]
    },
    {
     "name": "stdout",
     "output_type": "stream",
     "text": [
      "data\\train\\wrong\\gb_img_00050068.png\n",
      "data\\train\\wrong\\gb_img_00050071.png\n"
     ]
    },
    {
     "name": "stderr",
     "output_type": "stream",
     "text": [
      " 83%|████████▎ | 411/497 [00:35<00:11,  7.52it/s]"
     ]
    },
    {
     "name": "stdout",
     "output_type": "stream",
     "text": [
      "data\\train\\wrong\\gb_img_00060048.png\n",
      "data\\train\\wrong\\gb_img_00060050.png\n"
     ]
    },
    {
     "name": "stderr",
     "output_type": "stream",
     "text": [
      " 83%|████████▎ | 413/497 [00:35<00:10,  7.68it/s]"
     ]
    },
    {
     "name": "stdout",
     "output_type": "stream",
     "text": [
      "data\\train\\wrong\\gb_img_00070052.png\n",
      "data\\train\\wrong\\gb_img_00070053.png\n"
     ]
    },
    {
     "name": "stderr",
     "output_type": "stream",
     "text": [
      " 84%|████████▎ | 415/497 [00:35<00:09,  8.45it/s]"
     ]
    },
    {
     "name": "stdout",
     "output_type": "stream",
     "text": [
      "data\\train\\wrong\\gb_img_00070054.png\n",
      "data\\train\\wrong\\gb_img_00070055.png\n"
     ]
    },
    {
     "name": "stderr",
     "output_type": "stream",
     "text": [
      " 84%|████████▍ | 417/497 [00:36<00:09,  8.67it/s]"
     ]
    },
    {
     "name": "stdout",
     "output_type": "stream",
     "text": [
      "data\\train\\wrong\\gb_img_00070056.png\n",
      "data\\train\\wrong\\image12.jpg\n"
     ]
    },
    {
     "name": "stderr",
     "output_type": "stream",
     "text": [
      " 84%|████████▍ | 419/497 [00:36<00:07,  9.90it/s]"
     ]
    },
    {
     "name": "stdout",
     "output_type": "stream",
     "text": [
      "data\\train\\wrong\\image128.jpg\n",
      "data\\train\\wrong\\image133.jpg\n",
      "data\\train\\wrong\\image135.jpg\n"
     ]
    },
    {
     "name": "stderr",
     "output_type": "stream",
     "text": [
      " 85%|████████▌ | 423/497 [00:36<00:06, 12.19it/s]"
     ]
    },
    {
     "name": "stdout",
     "output_type": "stream",
     "text": [
      "data\\train\\wrong\\image136.jpg\n",
      "data\\train\\wrong\\image137.jpg\n",
      "data\\train\\wrong\\image14.jpg\n",
      "data\\train\\wrong\\image140.jpg\n"
     ]
    },
    {
     "name": "stderr",
     "output_type": "stream",
     "text": [
      " 86%|████████▌ | 427/497 [00:36<00:05, 13.40it/s]"
     ]
    },
    {
     "name": "stdout",
     "output_type": "stream",
     "text": [
      "data\\train\\wrong\\image142.jpg\n",
      "data\\train\\wrong\\image157.jpg\n",
      "data\\train\\wrong\\image159.jpg\n",
      "data\\train\\wrong\\image160.jpg\n"
     ]
    },
    {
     "name": "stderr",
     "output_type": "stream",
     "text": [
      " 86%|████████▋ | 429/497 [00:37<00:04, 13.64it/s]"
     ]
    },
    {
     "name": "stdout",
     "output_type": "stream",
     "text": [
      "data\\train\\wrong\\image161.jpg\n",
      "data\\train\\wrong\\image162.jpg\n"
     ]
    },
    {
     "name": "stderr",
     "output_type": "stream",
     "text": [
      " 87%|████████▋ | 431/497 [00:37<00:06, 10.98it/s]"
     ]
    },
    {
     "name": "stdout",
     "output_type": "stream",
     "text": [
      "data\\train\\wrong\\image163.jpg\n",
      "data\\train\\wrong\\image164.jpg\n"
     ]
    },
    {
     "name": "stderr",
     "output_type": "stream",
     "text": [
      " 87%|████████▋ | 433/497 [00:37<00:06,  9.66it/s]"
     ]
    },
    {
     "name": "stdout",
     "output_type": "stream",
     "text": [
      "data\\train\\wrong\\image165.jpg\n",
      "data\\train\\wrong\\image169.jpg\n"
     ]
    },
    {
     "name": "stderr",
     "output_type": "stream",
     "text": [
      " 88%|████████▊ | 436/497 [00:38<00:07,  8.66it/s]"
     ]
    },
    {
     "name": "stdout",
     "output_type": "stream",
     "text": [
      "data\\train\\wrong\\image17.jpg\n",
      "data\\train\\wrong\\image170.jpg\n"
     ]
    },
    {
     "name": "stderr",
     "output_type": "stream",
     "text": [
      " 88%|████████▊ | 438/497 [00:38<00:06,  8.56it/s]"
     ]
    },
    {
     "name": "stdout",
     "output_type": "stream",
     "text": [
      "data\\train\\wrong\\image175.jpg\n",
      "data\\train\\wrong\\image179.jpg\n"
     ]
    },
    {
     "name": "stderr",
     "output_type": "stream",
     "text": [
      " 89%|████████▊ | 440/497 [00:38<00:06,  8.36it/s]"
     ]
    },
    {
     "name": "stdout",
     "output_type": "stream",
     "text": [
      "data\\train\\wrong\\image180.jpg\n",
      "data\\train\\wrong\\image183.jpg\n"
     ]
    },
    {
     "name": "stderr",
     "output_type": "stream",
     "text": [
      " 89%|████████▉ | 443/497 [00:38<00:05, 10.21it/s]"
     ]
    },
    {
     "name": "stdout",
     "output_type": "stream",
     "text": [
      "data\\train\\wrong\\image184.jpg\n",
      "data\\train\\wrong\\image185.jpg\n",
      "data\\train\\wrong\\image188.jpg\n"
     ]
    },
    {
     "name": "stderr",
     "output_type": "stream",
     "text": [
      " 90%|████████▉ | 445/497 [00:38<00:04, 11.36it/s]"
     ]
    },
    {
     "name": "stdout",
     "output_type": "stream",
     "text": [
      "data\\train\\wrong\\image190.jpg\n",
      "data\\train\\wrong\\image196.jpg\n"
     ]
    },
    {
     "name": "stderr",
     "output_type": "stream",
     "text": [
      " 90%|████████▉ | 447/497 [00:39<00:05,  9.64it/s]"
     ]
    },
    {
     "name": "stdout",
     "output_type": "stream",
     "text": [
      "data\\train\\wrong\\image197.jpg\n",
      "data\\train\\wrong\\image198.jpg\n"
     ]
    },
    {
     "name": "stderr",
     "output_type": "stream",
     "text": [
      " 90%|█████████ | 449/497 [00:39<00:05,  8.71it/s]"
     ]
    },
    {
     "name": "stdout",
     "output_type": "stream",
     "text": [
      "data\\train\\wrong\\image200.jpg\n",
      "data\\train\\wrong\\image33.jpg\n",
      "data\\train\\wrong\\image34.jpg\n"
     ]
    },
    {
     "name": "stderr",
     "output_type": "stream",
     "text": [
      " 91%|█████████ | 452/497 [00:39<00:05,  8.13it/s]"
     ]
    },
    {
     "name": "stdout",
     "output_type": "stream",
     "text": [
      "data\\train\\wrong\\img_00050019 (2).png\n",
      "data\\train\\wrong\\img_00070051 (2).png\n"
     ]
    },
    {
     "name": "stderr",
     "output_type": "stream",
     "text": [
      " 91%|█████████▏| 454/497 [00:40<00:05,  7.17it/s]"
     ]
    },
    {
     "name": "stdout",
     "output_type": "stream",
     "text": [
      "data\\train\\wrong\\img_00070051.png\n",
      "data\\train\\wrong\\img_00070052 (2).png\n"
     ]
    },
    {
     "name": "stderr",
     "output_type": "stream",
     "text": [
      " 92%|█████████▏| 457/497 [00:40<00:04,  8.72it/s]"
     ]
    },
    {
     "name": "stdout",
     "output_type": "stream",
     "text": [
      "data\\train\\wrong\\img_00070052.png\n",
      "data\\train\\wrong\\img_00070053 (2).png\n",
      "data\\train\\wrong\\img_00070053.png\n"
     ]
    },
    {
     "name": "stderr",
     "output_type": "stream",
     "text": [
      " 92%|█████████▏| 459/497 [00:40<00:03,  9.67it/s]"
     ]
    },
    {
     "name": "stdout",
     "output_type": "stream",
     "text": [
      "data\\train\\wrong\\img_00070054 (2).png\n",
      "data\\train\\wrong\\img_00070054.png\n",
      "data\\train\\wrong\\img_00070055 (2).png\n"
     ]
    },
    {
     "name": "stderr",
     "output_type": "stream",
     "text": [
      " 93%|█████████▎| 462/497 [00:40<00:03,  9.12it/s]"
     ]
    },
    {
     "name": "stdout",
     "output_type": "stream",
     "text": [
      "data\\train\\wrong\\img_00070055.png\n",
      "data\\train\\wrong\\img_00070056 (2).png\n"
     ]
    },
    {
     "name": "stderr",
     "output_type": "stream",
     "text": [
      " 93%|█████████▎| 464/497 [00:41<00:04,  7.69it/s]"
     ]
    },
    {
     "name": "stdout",
     "output_type": "stream",
     "text": [
      "data\\train\\wrong\\img_00070056.png\n",
      "data\\train\\wrong\\img_00070061 (2).png\n"
     ]
    },
    {
     "name": "stderr",
     "output_type": "stream",
     "text": [
      " 94%|█████████▍| 466/497 [00:41<00:04,  7.48it/s]"
     ]
    },
    {
     "name": "stdout",
     "output_type": "stream",
     "text": [
      "data\\train\\wrong\\img_00070061.png\n",
      "data\\train\\wrong\\img_00110061.png\n"
     ]
    },
    {
     "name": "stderr",
     "output_type": "stream",
     "text": [
      " 94%|█████████▍| 468/497 [00:41<00:03,  8.67it/s]"
     ]
    },
    {
     "name": "stdout",
     "output_type": "stream",
     "text": [
      "data\\train\\wrong\\img_00110062.png\n",
      "data\\train\\wrong\\img_00130015 (2).png\n",
      "data\\train\\wrong\\img_00130015.png\n"
     ]
    },
    {
     "name": "stderr",
     "output_type": "stream",
     "text": [
      " 95%|█████████▍| 471/497 [00:42<00:02,  9.27it/s]"
     ]
    },
    {
     "name": "stdout",
     "output_type": "stream",
     "text": [
      "data\\train\\wrong\\img_00130016 (2).png\n",
      "data\\train\\wrong\\img_00130016.png\n"
     ]
    },
    {
     "name": "stderr",
     "output_type": "stream",
     "text": [
      " 95%|█████████▌| 473/497 [00:42<00:02,  8.88it/s]"
     ]
    },
    {
     "name": "stdout",
     "output_type": "stream",
     "text": [
      "data\\train\\wrong\\img_00130024 (2).png\n",
      "data\\train\\wrong\\img_00130024.png\n"
     ]
    },
    {
     "name": "stderr",
     "output_type": "stream",
     "text": [
      " 96%|█████████▌| 475/497 [00:42<00:02,  8.32it/s]"
     ]
    },
    {
     "name": "stdout",
     "output_type": "stream",
     "text": [
      "data\\train\\wrong\\img_00130066 (2).png\n",
      "data\\train\\wrong\\img_00130066.png\n"
     ]
    },
    {
     "name": "stderr",
     "output_type": "stream",
     "text": [
      " 96%|█████████▌| 477/497 [00:42<00:02,  7.23it/s]"
     ]
    },
    {
     "name": "stdout",
     "output_type": "stream",
     "text": [
      "data\\train\\wrong\\img_00130069 (2).png\n",
      "data\\train\\wrong\\img_00130069.png\n"
     ]
    },
    {
     "name": "stderr",
     "output_type": "stream",
     "text": [
      " 96%|█████████▋| 479/497 [00:43<00:02,  6.87it/s]"
     ]
    },
    {
     "name": "stdout",
     "output_type": "stream",
     "text": [
      "data\\train\\wrong\\mb_img_00050012.png\n",
      "data\\train\\wrong\\mb_img_00050017.png\n"
     ]
    },
    {
     "name": "stderr",
     "output_type": "stream",
     "text": [
      " 97%|█████████▋| 481/497 [00:43<00:02,  6.61it/s]"
     ]
    },
    {
     "name": "stdout",
     "output_type": "stream",
     "text": [
      "data\\train\\wrong\\mb_img_00050018.png\n",
      "data\\train\\wrong\\mb_img_00050019.png\n"
     ]
    },
    {
     "name": "stderr",
     "output_type": "stream",
     "text": [
      " 97%|█████████▋| 483/497 [00:43<00:01,  8.15it/s]"
     ]
    },
    {
     "name": "stdout",
     "output_type": "stream",
     "text": [
      "data\\train\\wrong\\mb_img_00050055.png\n",
      "data\\train\\wrong\\mb_img_00050056.png\n",
      "data\\train\\wrong\\mb_img_00070051.png\n"
     ]
    },
    {
     "name": "stderr",
     "output_type": "stream",
     "text": [
      " 98%|█████████▊| 487/497 [00:43<00:00, 10.26it/s]"
     ]
    },
    {
     "name": "stdout",
     "output_type": "stream",
     "text": [
      "data\\train\\wrong\\mb_img_00070052.png\n",
      "data\\train\\wrong\\mb_img_00070067.png\n",
      "data\\train\\wrong\\mb_img_00070068.png\n"
     ]
    },
    {
     "name": "stderr",
     "output_type": "stream",
     "text": [
      " 98%|█████████▊| 489/497 [00:44<00:00, 10.72it/s]"
     ]
    },
    {
     "name": "stdout",
     "output_type": "stream",
     "text": [
      "data\\train\\wrong\\mb_img_00070069.png\n",
      "data\\train\\wrong\\mb_img_00100016.png\n",
      "data\\train\\wrong\\mb_img_00100017.png\n"
     ]
    },
    {
     "name": "stderr",
     "output_type": "stream",
     "text": [
      " 99%|█████████▉| 493/497 [00:44<00:00, 11.85it/s]"
     ]
    },
    {
     "name": "stdout",
     "output_type": "stream",
     "text": [
      "data\\train\\wrong\\mb_img_00100018.png\n",
      "data\\train\\wrong\\mb_img_00100022.png\n",
      "data\\train\\wrong\\mb_img_00100023.png\n"
     ]
    },
    {
     "name": "stderr",
     "output_type": "stream",
     "text": [
      "100%|█████████▉| 495/497 [00:44<00:00, 11.97it/s]"
     ]
    },
    {
     "name": "stdout",
     "output_type": "stream",
     "text": [
      "data\\train\\wrong\\mb_img_00130015.png\n",
      "data\\train\\wrong\\mb_img_00130016.png\n"
     ]
    },
    {
     "name": "stderr",
     "output_type": "stream",
     "text": [
      "100%|██████████| 497/497 [00:44<00:00, 11.09it/s]"
     ]
    },
    {
     "name": "stdout",
     "output_type": "stream",
     "text": [
      "data\\train\\wrong\\mb_img_00130066.png\n",
      "data\\train\\wrong\\mb_img_00130069.png\n"
     ]
    },
    {
     "name": "stderr",
     "output_type": "stream",
     "text": [
      "\n"
     ]
    }
   ],
   "source": [
    "sno=0\n",
    "for x in tqdm(all_paths):\n",
    "\n",
    "    one_image=cv2.imread(x)\n",
    "    img = one_image.copy()\n",
    "    img=cv2.resize(img,(256,256))\n",
    "    img = tf.image.resize_with_pad(np.expand_dims(img, axis=0), 192,192)\n",
    "    input_image = tf.cast(img, dtype=tf.float32)\n",
    "    # Setup input and output \n",
    "    input_details = interpreter.get_input_details()\n",
    "    output_details = interpreter.get_output_details()\n",
    "    \n",
    "    # Make predictions \n",
    "    interpreter.set_tensor(input_details[0]['index'], np.array(input_image))\n",
    "    # interpreter.set_tensor(input_details[0]['index'],np.expand_dims(img, axis=0))\n",
    "    interpreter.invoke()\n",
    "    keypoints_with_scores = interpreter.get_tensor(output_details[0]['index'])\n",
    "    keypoints=keypoints_with_scores.flatten()\n",
    "    splt=x.split('\\\\')\n",
    "    print(x)\n",
    "    which=0 if splt[2]== \"wrong\" else 1\n",
    "    keypoints=np.append(keypoints,np.array([splt[1],which]))\n",
    "    df[sno]=keypoints\n",
    "    sno+=1"
   ]
  },
  {
   "cell_type": "code",
   "execution_count": 109,
   "id": "c76bf34c",
   "metadata": {},
   "outputs": [],
   "source": [
    "\n",
    "df=pd.DataFrame(df)"
   ]
  },
  {
   "cell_type": "code",
   "execution_count": 110,
   "id": "2bf87a83",
   "metadata": {},
   "outputs": [],
   "source": [
    "df=df.transpose()"
   ]
  },
  {
   "cell_type": "markdown",
   "id": "536911be",
   "metadata": {},
   "source": []
  },
  {
   "cell_type": "code",
   "execution_count": 111,
   "id": "b7cba209",
   "metadata": {},
   "outputs": [],
   "source": [
    "df.to_csv('main.csv')"
   ]
  },
  {
   "cell_type": "code",
   "execution_count": 112,
   "id": "1c42bfd0",
   "metadata": {},
   "outputs": [],
   "source": [
    "df=pd.read_csv('main.csv')"
   ]
  },
  {
   "cell_type": "code",
   "execution_count": 113,
   "id": "0218ddad",
   "metadata": {},
   "outputs": [],
   "source": [
    "#renaming the dataset columns\n",
    "prefixes=('x_','y_','score_')\n",
    "indx=0\n",
    "for x in KEYPOINT_LIST:\n",
    "    for y in prefixes:\n",
    "        df.rename(columns={str(indx):y+x}, inplace=True)\n",
    "        indx+=1\n",
    "df.rename(columns={'51':'split','52':'which'}, inplace=True)"
   ]
  },
  {
   "cell_type": "code",
   "execution_count": 114,
   "id": "cf11fba8",
   "metadata": {},
   "outputs": [],
   "source": [
    "df.to_csv('renamed.csv')"
   ]
  },
  {
   "cell_type": "code",
   "execution_count": 115,
   "id": "b345d99a",
   "metadata": {},
   "outputs": [],
   "source": [
    "df=pd.read_csv('renamed.csv')"
   ]
  },
  {
   "cell_type": "code",
   "execution_count": 116,
   "id": "e0ddc411",
   "metadata": {},
   "outputs": [
    {
     "data": {
      "text/html": [
       "<div>\n",
       "<style scoped>\n",
       "    .dataframe tbody tr th:only-of-type {\n",
       "        vertical-align: middle;\n",
       "    }\n",
       "\n",
       "    .dataframe tbody tr th {\n",
       "        vertical-align: top;\n",
       "    }\n",
       "\n",
       "    .dataframe thead th {\n",
       "        text-align: right;\n",
       "    }\n",
       "</style>\n",
       "<table border=\"1\" class=\"dataframe\">\n",
       "  <thead>\n",
       "    <tr style=\"text-align: right;\">\n",
       "      <th></th>\n",
       "      <th>Unnamed: 0.1</th>\n",
       "      <th>Unnamed: 0</th>\n",
       "      <th>x_nose</th>\n",
       "      <th>y_nose</th>\n",
       "      <th>score_nose</th>\n",
       "      <th>x_left_eye</th>\n",
       "      <th>y_left_eye</th>\n",
       "      <th>score_left_eye</th>\n",
       "      <th>x_right_eye</th>\n",
       "      <th>y_right_eye</th>\n",
       "      <th>...</th>\n",
       "      <th>y_right_knee</th>\n",
       "      <th>score_right_knee</th>\n",
       "      <th>x_left_ankle</th>\n",
       "      <th>y_left_ankle</th>\n",
       "      <th>score_left_ankle</th>\n",
       "      <th>x_right_ankle</th>\n",
       "      <th>y_right_ankle</th>\n",
       "      <th>score_right_ankle</th>\n",
       "      <th>split</th>\n",
       "      <th>which</th>\n",
       "    </tr>\n",
       "  </thead>\n",
       "  <tbody>\n",
       "    <tr>\n",
       "      <th>0</th>\n",
       "      <td>0</td>\n",
       "      <td>0</td>\n",
       "      <td>0.415963</td>\n",
       "      <td>0.767099</td>\n",
       "      <td>0.242764</td>\n",
       "      <td>0.407212</td>\n",
       "      <td>0.757574</td>\n",
       "      <td>0.201022</td>\n",
       "      <td>0.408114</td>\n",
       "      <td>0.772149</td>\n",
       "      <td>...</td>\n",
       "      <td>0.776264</td>\n",
       "      <td>0.352937</td>\n",
       "      <td>0.858770</td>\n",
       "      <td>0.632908</td>\n",
       "      <td>0.358377</td>\n",
       "      <td>0.856982</td>\n",
       "      <td>0.777490</td>\n",
       "      <td>0.270460</td>\n",
       "      <td>test</td>\n",
       "      <td>1</td>\n",
       "    </tr>\n",
       "    <tr>\n",
       "      <th>1</th>\n",
       "      <td>1</td>\n",
       "      <td>1</td>\n",
       "      <td>0.413374</td>\n",
       "      <td>0.593855</td>\n",
       "      <td>0.341220</td>\n",
       "      <td>0.404605</td>\n",
       "      <td>0.598766</td>\n",
       "      <td>0.419135</td>\n",
       "      <td>0.406271</td>\n",
       "      <td>0.590215</td>\n",
       "      <td>...</td>\n",
       "      <td>0.555782</td>\n",
       "      <td>0.383675</td>\n",
       "      <td>0.827948</td>\n",
       "      <td>0.648317</td>\n",
       "      <td>0.356120</td>\n",
       "      <td>0.824914</td>\n",
       "      <td>0.555114</td>\n",
       "      <td>0.278381</td>\n",
       "      <td>test</td>\n",
       "      <td>1</td>\n",
       "    </tr>\n",
       "    <tr>\n",
       "      <th>2</th>\n",
       "      <td>2</td>\n",
       "      <td>2</td>\n",
       "      <td>0.408952</td>\n",
       "      <td>0.534864</td>\n",
       "      <td>0.203834</td>\n",
       "      <td>0.405284</td>\n",
       "      <td>0.524920</td>\n",
       "      <td>0.242238</td>\n",
       "      <td>0.402671</td>\n",
       "      <td>0.544377</td>\n",
       "      <td>...</td>\n",
       "      <td>0.561444</td>\n",
       "      <td>0.407329</td>\n",
       "      <td>0.869863</td>\n",
       "      <td>0.515586</td>\n",
       "      <td>0.373780</td>\n",
       "      <td>0.847387</td>\n",
       "      <td>0.556824</td>\n",
       "      <td>0.336931</td>\n",
       "      <td>test</td>\n",
       "      <td>1</td>\n",
       "    </tr>\n",
       "    <tr>\n",
       "      <th>3</th>\n",
       "      <td>3</td>\n",
       "      <td>3</td>\n",
       "      <td>0.410998</td>\n",
       "      <td>0.613721</td>\n",
       "      <td>0.417282</td>\n",
       "      <td>0.404381</td>\n",
       "      <td>0.621880</td>\n",
       "      <td>0.375448</td>\n",
       "      <td>0.405164</td>\n",
       "      <td>0.605476</td>\n",
       "      <td>...</td>\n",
       "      <td>0.621716</td>\n",
       "      <td>0.191399</td>\n",
       "      <td>0.807454</td>\n",
       "      <td>0.603355</td>\n",
       "      <td>0.265327</td>\n",
       "      <td>0.828243</td>\n",
       "      <td>0.635156</td>\n",
       "      <td>0.236808</td>\n",
       "      <td>test</td>\n",
       "      <td>1</td>\n",
       "    </tr>\n",
       "    <tr>\n",
       "      <th>4</th>\n",
       "      <td>4</td>\n",
       "      <td>4</td>\n",
       "      <td>0.429857</td>\n",
       "      <td>0.604208</td>\n",
       "      <td>0.410494</td>\n",
       "      <td>0.424102</td>\n",
       "      <td>0.599712</td>\n",
       "      <td>0.334515</td>\n",
       "      <td>0.422647</td>\n",
       "      <td>0.606256</td>\n",
       "      <td>...</td>\n",
       "      <td>0.706586</td>\n",
       "      <td>0.501566</td>\n",
       "      <td>0.782908</td>\n",
       "      <td>0.570704</td>\n",
       "      <td>0.275186</td>\n",
       "      <td>0.791919</td>\n",
       "      <td>0.705178</td>\n",
       "      <td>0.335654</td>\n",
       "      <td>test</td>\n",
       "      <td>1</td>\n",
       "    </tr>\n",
       "  </tbody>\n",
       "</table>\n",
       "<p>5 rows × 55 columns</p>\n",
       "</div>"
      ],
      "text/plain": [
       "   Unnamed: 0.1  Unnamed: 0    x_nose    y_nose  score_nose  x_left_eye  \\\n",
       "0             0           0  0.415963  0.767099    0.242764    0.407212   \n",
       "1             1           1  0.413374  0.593855    0.341220    0.404605   \n",
       "2             2           2  0.408952  0.534864    0.203834    0.405284   \n",
       "3             3           3  0.410998  0.613721    0.417282    0.404381   \n",
       "4             4           4  0.429857  0.604208    0.410494    0.424102   \n",
       "\n",
       "   y_left_eye  score_left_eye  x_right_eye  y_right_eye  ...  y_right_knee  \\\n",
       "0    0.757574        0.201022     0.408114     0.772149  ...      0.776264   \n",
       "1    0.598766        0.419135     0.406271     0.590215  ...      0.555782   \n",
       "2    0.524920        0.242238     0.402671     0.544377  ...      0.561444   \n",
       "3    0.621880        0.375448     0.405164     0.605476  ...      0.621716   \n",
       "4    0.599712        0.334515     0.422647     0.606256  ...      0.706586   \n",
       "\n",
       "   score_right_knee  x_left_ankle  y_left_ankle  score_left_ankle  \\\n",
       "0          0.352937      0.858770      0.632908          0.358377   \n",
       "1          0.383675      0.827948      0.648317          0.356120   \n",
       "2          0.407329      0.869863      0.515586          0.373780   \n",
       "3          0.191399      0.807454      0.603355          0.265327   \n",
       "4          0.501566      0.782908      0.570704          0.275186   \n",
       "\n",
       "   x_right_ankle  y_right_ankle  score_right_ankle  split  which  \n",
       "0       0.856982       0.777490           0.270460   test      1  \n",
       "1       0.824914       0.555114           0.278381   test      1  \n",
       "2       0.847387       0.556824           0.336931   test      1  \n",
       "3       0.828243       0.635156           0.236808   test      1  \n",
       "4       0.791919       0.705178           0.335654   test      1  \n",
       "\n",
       "[5 rows x 55 columns]"
      ]
     },
     "execution_count": 116,
     "metadata": {},
     "output_type": "execute_result"
    }
   ],
   "source": [
    "df.head()"
   ]
  },
  {
   "cell_type": "code",
   "execution_count": 117,
   "id": "4c0160f5",
   "metadata": {},
   "outputs": [],
   "source": [
    "torso_KEYPOINT_LIST = [\n",
    "    'nose',\n",
    "    'left_eye',\n",
    "    'right_eye',\n",
    "    'left_ear',\n",
    "    'right_ear',\n",
    "    'left_shoulder',\n",
    "    'right_shoulder',\n",
    "    'left_elbow',\n",
    "    'right_elbow',\n",
    "    'left_wrist',\n",
    "    'right_wrist',\n",
    "    'left_hip',\n",
    "    'right_hip',\n",
    "\n",
    "]"
   ]
  },
  {
   "cell_type": "code",
   "execution_count": 118,
   "id": "71c2af8e",
   "metadata": {},
   "outputs": [],
   "source": [
    "# class Point:\n",
    "#   def __init__(self, x, y):\n",
    "#     self.x = x\n",
    "#     self.y = y "
   ]
  },
  {
   "cell_type": "code",
   "execution_count": 119,
   "id": "6b88ac6d",
   "metadata": {},
   "outputs": [],
   "source": [
    "# def getAngle(a, b, c):\n",
    "#     ang = math.degrees(math.atan2(c.y-b.y, c.x-b.x) - math.atan2(a.y-b.y, a.x-b.x))\n",
    "#     return ang"
   ]
  },
  {
   "cell_type": "code",
   "execution_count": 120,
   "id": "39a074de",
   "metadata": {},
   "outputs": [],
   "source": [
    "# #default left side is chosen because in the training data the, perons's left profile is visible \n",
    "# def computeElbowAngle(row,which='left'):\n",
    "#   wrist = Point(row[f'x_{which}_wrist'], row[f'y_{which}_wrist'])\n",
    "#   elbow = Point(row[f'x_{which}_elbow'], row[f'y_{which}_elbow'])\n",
    "#   shoulder = Point(row[f'x_{which}_shoulder'], row[f'y_{which}_shoulder'])\n",
    "#   return getAngle(wrist, elbow, shoulder)\n",
    "\n",
    "# def computeShoulderAngle(row,which='left'):\n",
    "#   elbow = Point(row[f'x_{which}_elbow'], row[f'y_{which}_elbow'])\n",
    "#   shoulder = Point(row[f'x_{which}_shoulder'], row[f'y_{which}_shoulder'])\n",
    "#   nose = Point(row[f'x_nose'], row[f'y_nose'])\n",
    "#   return getAngle(elbow, shoulder, nose)\n",
    "\n",
    "\n",
    "# def computeNoseAngle(row):\n",
    "#   shoulder_left = Point(row[f'x_left_shoulder'], row[f'y_left_shoulder'])\n",
    "#   nose = Point(row[f'x_nose'], row[f'y_nose'])\n",
    "#   shoulder_right = Point(row[f'x_right_shoulder'], row[f'y_right_shoulder'])\n",
    "#   return getAngle(shoulder_right,nose,shoulder_left)"
   ]
  },
  {
   "cell_type": "code",
   "execution_count": 121,
   "id": "754c6464",
   "metadata": {},
   "outputs": [],
   "source": [
    "\n",
    "\n",
    "df=df.drop(['Unnamed: 0.1','Unnamed: 0'],axis=1)"
   ]
  },
  {
   "cell_type": "code",
   "execution_count": 122,
   "id": "2d11f2eb",
   "metadata": {},
   "outputs": [],
   "source": [
    "#only selecting the torso part \n",
    "selected_columns=[]\n",
    "for x in torso_KEYPOINT_LIST:\n",
    "    for y in prefixes:\n",
    "        selected_columns.append(y+x)"
   ]
  },
  {
   "cell_type": "code",
   "execution_count": 123,
   "id": "3452177b",
   "metadata": {},
   "outputs": [],
   "source": [
    "selected_columns.append('which')\n",
    "selected_columns.append('split')"
   ]
  },
  {
   "cell_type": "code",
   "execution_count": 124,
   "id": "1ea9821f",
   "metadata": {},
   "outputs": [
    {
     "data": {
      "text/plain": [
       "41"
      ]
     },
     "execution_count": 124,
     "metadata": {},
     "output_type": "execute_result"
    }
   ],
   "source": [
    "len(selected_columns)"
   ]
  },
  {
   "cell_type": "code",
   "execution_count": 125,
   "id": "2d636d75",
   "metadata": {},
   "outputs": [],
   "source": [
    "#new df with only the torso part\n",
    "t_df=df[selected_columns]"
   ]
  },
  {
   "cell_type": "code",
   "execution_count": 126,
   "id": "fb16a08f",
   "metadata": {},
   "outputs": [
    {
     "data": {
      "text/html": [
       "<div>\n",
       "<style scoped>\n",
       "    .dataframe tbody tr th:only-of-type {\n",
       "        vertical-align: middle;\n",
       "    }\n",
       "\n",
       "    .dataframe tbody tr th {\n",
       "        vertical-align: top;\n",
       "    }\n",
       "\n",
       "    .dataframe thead th {\n",
       "        text-align: right;\n",
       "    }\n",
       "</style>\n",
       "<table border=\"1\" class=\"dataframe\">\n",
       "  <thead>\n",
       "    <tr style=\"text-align: right;\">\n",
       "      <th></th>\n",
       "      <th>x_nose</th>\n",
       "      <th>y_nose</th>\n",
       "      <th>score_nose</th>\n",
       "      <th>x_left_eye</th>\n",
       "      <th>y_left_eye</th>\n",
       "      <th>score_left_eye</th>\n",
       "      <th>x_right_eye</th>\n",
       "      <th>y_right_eye</th>\n",
       "      <th>score_right_eye</th>\n",
       "      <th>x_left_ear</th>\n",
       "      <th>...</th>\n",
       "      <th>y_right_wrist</th>\n",
       "      <th>score_right_wrist</th>\n",
       "      <th>x_left_hip</th>\n",
       "      <th>y_left_hip</th>\n",
       "      <th>score_left_hip</th>\n",
       "      <th>x_right_hip</th>\n",
       "      <th>y_right_hip</th>\n",
       "      <th>score_right_hip</th>\n",
       "      <th>which</th>\n",
       "      <th>split</th>\n",
       "    </tr>\n",
       "  </thead>\n",
       "  <tbody>\n",
       "    <tr>\n",
       "      <th>0</th>\n",
       "      <td>0.415963</td>\n",
       "      <td>0.767099</td>\n",
       "      <td>0.242764</td>\n",
       "      <td>0.407212</td>\n",
       "      <td>0.757574</td>\n",
       "      <td>0.201022</td>\n",
       "      <td>0.408114</td>\n",
       "      <td>0.772149</td>\n",
       "      <td>0.300899</td>\n",
       "      <td>0.415313</td>\n",
       "      <td>...</td>\n",
       "      <td>0.828284</td>\n",
       "      <td>0.365947</td>\n",
       "      <td>0.632101</td>\n",
       "      <td>0.710791</td>\n",
       "      <td>0.524608</td>\n",
       "      <td>0.650659</td>\n",
       "      <td>0.787940</td>\n",
       "      <td>0.392426</td>\n",
       "      <td>1</td>\n",
       "      <td>test</td>\n",
       "    </tr>\n",
       "    <tr>\n",
       "      <th>1</th>\n",
       "      <td>0.413374</td>\n",
       "      <td>0.593855</td>\n",
       "      <td>0.341220</td>\n",
       "      <td>0.404605</td>\n",
       "      <td>0.598766</td>\n",
       "      <td>0.419135</td>\n",
       "      <td>0.406271</td>\n",
       "      <td>0.590215</td>\n",
       "      <td>0.390180</td>\n",
       "      <td>0.409218</td>\n",
       "      <td>...</td>\n",
       "      <td>0.610808</td>\n",
       "      <td>0.166735</td>\n",
       "      <td>0.633596</td>\n",
       "      <td>0.630927</td>\n",
       "      <td>0.554820</td>\n",
       "      <td>0.631531</td>\n",
       "      <td>0.593326</td>\n",
       "      <td>0.545653</td>\n",
       "      <td>1</td>\n",
       "      <td>test</td>\n",
       "    </tr>\n",
       "    <tr>\n",
       "      <th>2</th>\n",
       "      <td>0.408952</td>\n",
       "      <td>0.534864</td>\n",
       "      <td>0.203834</td>\n",
       "      <td>0.405284</td>\n",
       "      <td>0.524920</td>\n",
       "      <td>0.242238</td>\n",
       "      <td>0.402671</td>\n",
       "      <td>0.544377</td>\n",
       "      <td>0.236518</td>\n",
       "      <td>0.407282</td>\n",
       "      <td>...</td>\n",
       "      <td>0.631099</td>\n",
       "      <td>0.437278</td>\n",
       "      <td>0.623821</td>\n",
       "      <td>0.509463</td>\n",
       "      <td>0.546716</td>\n",
       "      <td>0.624528</td>\n",
       "      <td>0.578460</td>\n",
       "      <td>0.538932</td>\n",
       "      <td>1</td>\n",
       "      <td>test</td>\n",
       "    </tr>\n",
       "    <tr>\n",
       "      <th>3</th>\n",
       "      <td>0.410998</td>\n",
       "      <td>0.613721</td>\n",
       "      <td>0.417282</td>\n",
       "      <td>0.404381</td>\n",
       "      <td>0.621880</td>\n",
       "      <td>0.375448</td>\n",
       "      <td>0.405164</td>\n",
       "      <td>0.605476</td>\n",
       "      <td>0.433086</td>\n",
       "      <td>0.410747</td>\n",
       "      <td>...</td>\n",
       "      <td>0.553355</td>\n",
       "      <td>0.300274</td>\n",
       "      <td>0.604799</td>\n",
       "      <td>0.632358</td>\n",
       "      <td>0.486080</td>\n",
       "      <td>0.602303</td>\n",
       "      <td>0.599425</td>\n",
       "      <td>0.463312</td>\n",
       "      <td>1</td>\n",
       "      <td>test</td>\n",
       "    </tr>\n",
       "    <tr>\n",
       "      <th>4</th>\n",
       "      <td>0.429857</td>\n",
       "      <td>0.604208</td>\n",
       "      <td>0.410494</td>\n",
       "      <td>0.424102</td>\n",
       "      <td>0.599712</td>\n",
       "      <td>0.334515</td>\n",
       "      <td>0.422647</td>\n",
       "      <td>0.606256</td>\n",
       "      <td>0.437486</td>\n",
       "      <td>0.436338</td>\n",
       "      <td>...</td>\n",
       "      <td>0.616751</td>\n",
       "      <td>0.197079</td>\n",
       "      <td>0.640686</td>\n",
       "      <td>0.555473</td>\n",
       "      <td>0.406877</td>\n",
       "      <td>0.637078</td>\n",
       "      <td>0.602977</td>\n",
       "      <td>0.429409</td>\n",
       "      <td>1</td>\n",
       "      <td>test</td>\n",
       "    </tr>\n",
       "    <tr>\n",
       "      <th>...</th>\n",
       "      <td>...</td>\n",
       "      <td>...</td>\n",
       "      <td>...</td>\n",
       "      <td>...</td>\n",
       "      <td>...</td>\n",
       "      <td>...</td>\n",
       "      <td>...</td>\n",
       "      <td>...</td>\n",
       "      <td>...</td>\n",
       "      <td>...</td>\n",
       "      <td>...</td>\n",
       "      <td>...</td>\n",
       "      <td>...</td>\n",
       "      <td>...</td>\n",
       "      <td>...</td>\n",
       "      <td>...</td>\n",
       "      <td>...</td>\n",
       "      <td>...</td>\n",
       "      <td>...</td>\n",
       "      <td>...</td>\n",
       "      <td>...</td>\n",
       "    </tr>\n",
       "    <tr>\n",
       "      <th>492</th>\n",
       "      <td>0.451580</td>\n",
       "      <td>0.678643</td>\n",
       "      <td>0.279793</td>\n",
       "      <td>0.443325</td>\n",
       "      <td>0.672194</td>\n",
       "      <td>0.270480</td>\n",
       "      <td>0.447002</td>\n",
       "      <td>0.690073</td>\n",
       "      <td>0.266623</td>\n",
       "      <td>0.449929</td>\n",
       "      <td>...</td>\n",
       "      <td>0.777037</td>\n",
       "      <td>0.367427</td>\n",
       "      <td>0.652665</td>\n",
       "      <td>0.653378</td>\n",
       "      <td>0.558878</td>\n",
       "      <td>0.651823</td>\n",
       "      <td>0.724749</td>\n",
       "      <td>0.580994</td>\n",
       "      <td>0</td>\n",
       "      <td>train</td>\n",
       "    </tr>\n",
       "    <tr>\n",
       "      <th>493</th>\n",
       "      <td>0.749992</td>\n",
       "      <td>0.569606</td>\n",
       "      <td>0.317556</td>\n",
       "      <td>0.752717</td>\n",
       "      <td>0.564900</td>\n",
       "      <td>0.328583</td>\n",
       "      <td>0.749691</td>\n",
       "      <td>0.571783</td>\n",
       "      <td>0.298964</td>\n",
       "      <td>0.726311</td>\n",
       "      <td>...</td>\n",
       "      <td>0.625487</td>\n",
       "      <td>0.365999</td>\n",
       "      <td>0.518556</td>\n",
       "      <td>0.469251</td>\n",
       "      <td>0.079300</td>\n",
       "      <td>0.523523</td>\n",
       "      <td>0.486150</td>\n",
       "      <td>0.185146</td>\n",
       "      <td>0</td>\n",
       "      <td>train</td>\n",
       "    </tr>\n",
       "    <tr>\n",
       "      <th>494</th>\n",
       "      <td>0.436966</td>\n",
       "      <td>0.479437</td>\n",
       "      <td>0.266796</td>\n",
       "      <td>0.427518</td>\n",
       "      <td>0.485978</td>\n",
       "      <td>0.415211</td>\n",
       "      <td>0.430779</td>\n",
       "      <td>0.465383</td>\n",
       "      <td>0.354847</td>\n",
       "      <td>0.430095</td>\n",
       "      <td>...</td>\n",
       "      <td>0.478738</td>\n",
       "      <td>0.140002</td>\n",
       "      <td>0.651140</td>\n",
       "      <td>0.571552</td>\n",
       "      <td>0.374223</td>\n",
       "      <td>0.677102</td>\n",
       "      <td>0.490351</td>\n",
       "      <td>0.481497</td>\n",
       "      <td>0</td>\n",
       "      <td>train</td>\n",
       "    </tr>\n",
       "    <tr>\n",
       "      <th>495</th>\n",
       "      <td>0.453842</td>\n",
       "      <td>0.519843</td>\n",
       "      <td>0.422062</td>\n",
       "      <td>0.441317</td>\n",
       "      <td>0.528233</td>\n",
       "      <td>0.446878</td>\n",
       "      <td>0.441216</td>\n",
       "      <td>0.516277</td>\n",
       "      <td>0.397766</td>\n",
       "      <td>0.439738</td>\n",
       "      <td>...</td>\n",
       "      <td>0.534711</td>\n",
       "      <td>0.111052</td>\n",
       "      <td>0.654341</td>\n",
       "      <td>0.593325</td>\n",
       "      <td>0.490627</td>\n",
       "      <td>0.669830</td>\n",
       "      <td>0.510698</td>\n",
       "      <td>0.548240</td>\n",
       "      <td>0</td>\n",
       "      <td>train</td>\n",
       "    </tr>\n",
       "    <tr>\n",
       "      <th>496</th>\n",
       "      <td>0.455455</td>\n",
       "      <td>0.508583</td>\n",
       "      <td>0.345696</td>\n",
       "      <td>0.440774</td>\n",
       "      <td>0.518172</td>\n",
       "      <td>0.452424</td>\n",
       "      <td>0.445461</td>\n",
       "      <td>0.501309</td>\n",
       "      <td>0.520989</td>\n",
       "      <td>0.438837</td>\n",
       "      <td>...</td>\n",
       "      <td>0.466936</td>\n",
       "      <td>0.415355</td>\n",
       "      <td>0.667962</td>\n",
       "      <td>0.587657</td>\n",
       "      <td>0.635872</td>\n",
       "      <td>0.667249</td>\n",
       "      <td>0.508877</td>\n",
       "      <td>0.656796</td>\n",
       "      <td>0</td>\n",
       "      <td>train</td>\n",
       "    </tr>\n",
       "  </tbody>\n",
       "</table>\n",
       "<p>497 rows × 41 columns</p>\n",
       "</div>"
      ],
      "text/plain": [
       "       x_nose    y_nose  score_nose  x_left_eye  y_left_eye  score_left_eye  \\\n",
       "0    0.415963  0.767099    0.242764    0.407212    0.757574        0.201022   \n",
       "1    0.413374  0.593855    0.341220    0.404605    0.598766        0.419135   \n",
       "2    0.408952  0.534864    0.203834    0.405284    0.524920        0.242238   \n",
       "3    0.410998  0.613721    0.417282    0.404381    0.621880        0.375448   \n",
       "4    0.429857  0.604208    0.410494    0.424102    0.599712        0.334515   \n",
       "..        ...       ...         ...         ...         ...             ...   \n",
       "492  0.451580  0.678643    0.279793    0.443325    0.672194        0.270480   \n",
       "493  0.749992  0.569606    0.317556    0.752717    0.564900        0.328583   \n",
       "494  0.436966  0.479437    0.266796    0.427518    0.485978        0.415211   \n",
       "495  0.453842  0.519843    0.422062    0.441317    0.528233        0.446878   \n",
       "496  0.455455  0.508583    0.345696    0.440774    0.518172        0.452424   \n",
       "\n",
       "     x_right_eye  y_right_eye  score_right_eye  x_left_ear  ...  \\\n",
       "0       0.408114     0.772149         0.300899    0.415313  ...   \n",
       "1       0.406271     0.590215         0.390180    0.409218  ...   \n",
       "2       0.402671     0.544377         0.236518    0.407282  ...   \n",
       "3       0.405164     0.605476         0.433086    0.410747  ...   \n",
       "4       0.422647     0.606256         0.437486    0.436338  ...   \n",
       "..           ...          ...              ...         ...  ...   \n",
       "492     0.447002     0.690073         0.266623    0.449929  ...   \n",
       "493     0.749691     0.571783         0.298964    0.726311  ...   \n",
       "494     0.430779     0.465383         0.354847    0.430095  ...   \n",
       "495     0.441216     0.516277         0.397766    0.439738  ...   \n",
       "496     0.445461     0.501309         0.520989    0.438837  ...   \n",
       "\n",
       "     y_right_wrist  score_right_wrist  x_left_hip  y_left_hip  score_left_hip  \\\n",
       "0         0.828284           0.365947    0.632101    0.710791        0.524608   \n",
       "1         0.610808           0.166735    0.633596    0.630927        0.554820   \n",
       "2         0.631099           0.437278    0.623821    0.509463        0.546716   \n",
       "3         0.553355           0.300274    0.604799    0.632358        0.486080   \n",
       "4         0.616751           0.197079    0.640686    0.555473        0.406877   \n",
       "..             ...                ...         ...         ...             ...   \n",
       "492       0.777037           0.367427    0.652665    0.653378        0.558878   \n",
       "493       0.625487           0.365999    0.518556    0.469251        0.079300   \n",
       "494       0.478738           0.140002    0.651140    0.571552        0.374223   \n",
       "495       0.534711           0.111052    0.654341    0.593325        0.490627   \n",
       "496       0.466936           0.415355    0.667962    0.587657        0.635872   \n",
       "\n",
       "     x_right_hip  y_right_hip  score_right_hip  which  split  \n",
       "0       0.650659     0.787940         0.392426      1   test  \n",
       "1       0.631531     0.593326         0.545653      1   test  \n",
       "2       0.624528     0.578460         0.538932      1   test  \n",
       "3       0.602303     0.599425         0.463312      1   test  \n",
       "4       0.637078     0.602977         0.429409      1   test  \n",
       "..           ...          ...              ...    ...    ...  \n",
       "492     0.651823     0.724749         0.580994      0  train  \n",
       "493     0.523523     0.486150         0.185146      0  train  \n",
       "494     0.677102     0.490351         0.481497      0  train  \n",
       "495     0.669830     0.510698         0.548240      0  train  \n",
       "496     0.667249     0.508877         0.656796      0  train  \n",
       "\n",
       "[497 rows x 41 columns]"
      ]
     },
     "execution_count": 126,
     "metadata": {},
     "output_type": "execute_result"
    }
   ],
   "source": [
    "t_df"
   ]
  },
  {
   "cell_type": "code",
   "execution_count": 127,
   "id": "7be8bfba",
   "metadata": {},
   "outputs": [],
   "source": [
    "# t_df['left_ElbowAngle']=t_df.apply(computeElbowAngle,axis=1)\n",
    "# t_df['right_ElbowAngle']=t_df.apply(computeElbowAngle,axis=1,which='right')\n",
    "# t_df['left_ShoulderAngle']=t_df.apply(computeShoulderAngle,axis=1)\n",
    "# t_df['right_ShoulderAngle']=t_df.apply(computeShoulderAngle,axis=1,which='right')\n",
    "# t_df['NoseAngle']=t_df.apply(computeNoseAngle,axis=1)"
   ]
  },
  {
   "cell_type": "code",
   "execution_count": 128,
   "id": "6e398f69",
   "metadata": {},
   "outputs": [],
   "source": [
    "train_df=t_df[t_df['split']=='train']\n",
    "test_df=t_df[t_df['split']=='test']"
   ]
  },
  {
   "cell_type": "code",
   "execution_count": 129,
   "id": "5522d9b9",
   "metadata": {},
   "outputs": [],
   "source": [
    "train_df=train_df.drop(['split'],axis=1)\n",
    "test_df=test_df.drop(['split'],axis=1)"
   ]
  },
  {
   "cell_type": "code",
   "execution_count": 130,
   "id": "7cdb2504",
   "metadata": {},
   "outputs": [],
   "source": [
    "trainX=train_df.drop(['which'],axis=1).values\n",
    "trainY=train_df['which'].values\n",
    "\n",
    "testX=test_df.drop(['which'],axis=1).values\n",
    "testY=test_df['which'].values"
   ]
  },
  {
   "cell_type": "code",
   "execution_count": 131,
   "id": "e6019d4f",
   "metadata": {},
   "outputs": [
    {
     "name": "stdout",
     "output_type": "stream",
     "text": [
      "(356, 39)\n",
      "(356,)\n",
      "(141, 39)\n",
      "(141,)\n"
     ]
    }
   ],
   "source": [
    "print(trainX.shape)\n",
    "print(trainY.shape)\n",
    "print(testX.shape)\n",
    "print(testY.shape)\n"
   ]
  },
  {
   "cell_type": "code",
   "execution_count": 132,
   "id": "298e427b",
   "metadata": {},
   "outputs": [],
   "source": [
    "from sklearn import svm\n",
    "clf = svm.SVC()"
   ]
  },
  {
   "cell_type": "code",
   "execution_count": 133,
   "id": "e034563b",
   "metadata": {},
   "outputs": [
    {
     "data": {
      "text/plain": [
       "SVC()"
      ]
     },
     "execution_count": 133,
     "metadata": {},
     "output_type": "execute_result"
    }
   ],
   "source": [
    "clf.fit(trainX, trainY)"
   ]
  },
  {
   "cell_type": "code",
   "execution_count": 134,
   "id": "8539f996",
   "metadata": {},
   "outputs": [],
   "source": [
    "predicted=clf.predict(testX)"
   ]
  },
  {
   "cell_type": "code",
   "execution_count": 135,
   "id": "740b70b6",
   "metadata": {},
   "outputs": [],
   "source": [
    "from sklearn.metrics import confusion_matrix\n",
    "c=confusion_matrix(testY,predicted)"
   ]
  },
  {
   "cell_type": "code",
   "execution_count": 136,
   "id": "25578541",
   "metadata": {},
   "outputs": [
    {
     "data": {
      "text/plain": [
       "array([[46, 14],\n",
       "       [15, 66]], dtype=int64)"
      ]
     },
     "execution_count": 136,
     "metadata": {},
     "output_type": "execute_result"
    }
   ],
   "source": [
    "c"
   ]
  },
  {
   "cell_type": "code",
   "execution_count": 137,
   "id": "99400552",
   "metadata": {},
   "outputs": [
    {
     "name": "stdout",
     "output_type": "stream",
     "text": [
      "              precision    recall  f1-score   support\n",
      "\n",
      "           0       0.75      0.77      0.76        60\n",
      "           1       0.82      0.81      0.82        81\n",
      "\n",
      "    accuracy                           0.79       141\n",
      "   macro avg       0.79      0.79      0.79       141\n",
      "weighted avg       0.79      0.79      0.79       141\n",
      "\n"
     ]
    }
   ],
   "source": [
    "from sklearn.metrics import classification_report\n",
    "print(classification_report(testY,predicted))"
   ]
  },
  {
   "cell_type": "code",
   "execution_count": 138,
   "id": "9a14f4da",
   "metadata": {},
   "outputs": [],
   "source": [
    "import pickle\n",
    "pickle.dump(clf,open('svm_model.sav','wb'))"
   ]
  },
  {
   "cell_type": "markdown",
   "id": "3abf5085",
   "metadata": {},
   "source": [
    "# Camera part\n",
    "- #### Run only this part if you want to test the model  "
   ]
  },
  {
   "cell_type": "code",
   "execution_count": 1,
   "id": "bafb17f5",
   "metadata": {},
   "outputs": [
    {
     "name": "stderr",
     "output_type": "stream",
     "text": [
      "2022-04-24 06:54:06.104853: W tensorflow/stream_executor/platform/default/dso_loader.cc:64] Could not load dynamic library 'libcudart.so.11.0'; dlerror: libcudart.so.11.0: cannot open shared object file: No such file or directory\n",
      "2022-04-24 06:54:06.104891: I tensorflow/stream_executor/cuda/cudart_stub.cc:29] Ignore above cudart dlerror if you do not have a GPU set up on your machine.\n"
     ]
    }
   ],
   "source": [
    "import tensorflow as tf\n",
    "import numpy as np\n",
    "from matplotlib import pyplot as plt\n",
    "import cv2\n",
    "import pickle\n"
   ]
  },
  {
   "cell_type": "code",
   "execution_count": 2,
   "id": "4af977aa",
   "metadata": {},
   "outputs": [],
   "source": [
    "mdl=pickle.load(open('svm_model.sav', 'rb'))"
   ]
  },
  {
   "cell_type": "code",
   "execution_count": 3,
   "id": "91b3cfe4",
   "metadata": {},
   "outputs": [
    {
     "name": "stderr",
     "output_type": "stream",
     "text": [
      "INFO: Created TensorFlow Lite XNNPACK delegate for CPU.\n"
     ]
    }
   ],
   "source": [
    "interpreter = tf.lite.Interpreter(model_path='movenet_thunder.tflite')\n",
    "# interpreter = tf.lite.Interpreter(model_path='model.tflite')\n",
    "# interpreter = tf.lite.Interpreter(model_path='movent_model_thunder.tflite')\n",
    "interpreter.allocate_tensors()"
   ]
  },
  {
   "cell_type": "code",
   "execution_count": 4,
   "id": "6ca4f123",
   "metadata": {},
   "outputs": [
    {
     "data": {
      "text/plain": [
       "[{'name': 'StatefulPartitionedCall:0',\n",
       "  'index': 316,\n",
       "  'shape': array([ 1,  1, 17,  3], dtype=int32),\n",
       "  'shape_signature': array([ 1,  1, 17,  3], dtype=int32),\n",
       "  'dtype': numpy.float32,\n",
       "  'quantization': (0.0, 0),\n",
       "  'quantization_parameters': {'scales': array([], dtype=float32),\n",
       "   'zero_points': array([], dtype=int32),\n",
       "   'quantized_dimension': 0},\n",
       "  'sparsity_parameters': {}}]"
      ]
     },
     "execution_count": 4,
     "metadata": {},
     "output_type": "execute_result"
    }
   ],
   "source": [
    "interpreter.get_output_details()"
   ]
  },
  {
   "cell_type": "code",
   "execution_count": 5,
   "id": "7574b8c3",
   "metadata": {},
   "outputs": [],
   "source": [
    "def draw_keypoints(frame, keypoints, confidence_threshold):\n",
    "    y, x, c = frame.shape\n",
    "    shaped = np.squeeze(np.multiply(keypoints, [y,x,1]))\n",
    "    \n",
    "    for kp in shaped:\n",
    "        ky, kx, kp_conf = kp\n",
    "        if kp_conf > confidence_threshold:\n",
    "            cv2.circle(frame, (int(kx), int(ky)), 4, (0,255,0), -1)"
   ]
  },
  {
   "cell_type": "code",
   "execution_count": 6,
   "id": "9570ecb0",
   "metadata": {},
   "outputs": [],
   "source": [
    "EDGES = {\n",
    "    (0, 1): 'm',\n",
    "    (0, 2): 'c',\n",
    "    (1, 3): 'm',\n",
    "    (2, 4): 'c',\n",
    "    (0, 5): 'm',\n",
    "    (0, 6): 'c',\n",
    "    (5, 7): 'm',\n",
    "    (7, 9): 'm',\n",
    "    (6, 8): 'c',\n",
    "    (8, 10): 'c',\n",
    "    (5, 6): 'y',\n",
    "    (5, 11): 'm',\n",
    "    (6, 12): 'c',\n",
    "    (11, 12): 'y',\n",
    "    (11, 13): 'm',\n",
    "    (13, 15): 'm',\n",
    "    (12, 14): 'c',\n",
    "    (14, 16): 'c'\n",
    "}"
   ]
  },
  {
   "cell_type": "code",
   "execution_count": 7,
   "id": "d378fe97",
   "metadata": {},
   "outputs": [],
   "source": [
    "def draw_connections(frame, keypoints, edges, confidence_threshold):\n",
    "    y, x, c = frame.shape\n",
    "    shaped = np.squeeze(np.multiply(keypoints, [y,x,1]))\n",
    "    \n",
    "    for edge, color in edges.items():\n",
    "        p1, p2 = edge\n",
    "        y1, x1, c1 = shaped[p1]\n",
    "        y2, x2, c2 = shaped[p2]\n",
    "        \n",
    "        if (c1 > confidence_threshold) & (c2 > confidence_threshold):      \n",
    "            cv2.line(frame, (int(x1), int(y1)), (int(x2), int(y2)), (0,0,255), 2)"
   ]
  },
  {
   "cell_type": "code",
   "execution_count": 8,
   "id": "7250a329",
   "metadata": {},
   "outputs": [],
   "source": [
    "def predict(frame,keypoints):\n",
    "    keypoints = keypoints.flatten()[:39]\n",
    "    font = cv2.FONT_HERSHEY_SIMPLEX\n",
    "    pred=mdl.predict([keypoints])\n",
    "    # print (pred)\n",
    "    if pred[0]==0:\n",
    "        cv2.putText(frame, 'WRONG POSTURE', (50, 50), font, 1, (0, 255, 255), 2, cv2.LINE_4)\n",
    "    \n",
    "    elif pred[0]==1:\n",
    "        cv2.putText(frame, 'RIGHT POSTURE', (50, 50), font, 1, (0, 255, 0), 2, cv2.LINE_4)\n",
    "    # else:\n",
    "        # cv2.putText(frame, 'NO BODY DETECTED', (50, 50), font, 1, (255, 0, 0), 2, cv2.LINE_4)"
   ]
  },
  {
   "cell_type": "markdown",
   "id": "aa6fa295",
   "metadata": {},
   "source": [
    "Below is the code that calculates the distance of face from the camera , the focal length of the camera is set to a default 480, but if the code is to be run on different setup a reference image can be taken a the specific function can be un commented to calculate the new focal length "
   ]
  },
  {
   "cell_type": "code",
   "execution_count": 9,
   "id": "62995bac",
   "metadata": {},
   "outputs": [
    {
     "name": "stdout",
     "output_type": "stream",
     "text": [
      "480\n"
     ]
    }
   ],
   "source": [
    "#for distance measuring \n",
    "Know_distance =30 # in centimeters\n",
    "#mine is 14.3 something, measure your face width, or google it \n",
    "Know_width_face =13 #centimeters\n",
    "\n",
    "face_detector = cv2.CascadeClassifier('haarcascade_frontalface_default.xml')\n",
    "# def FocalLengthFinder(Measured_distance, real_width_of_face, width_of_face_in_image):\n",
    "#     # finding focal length\n",
    "#     focal_length = (width_of_face_in_image* Measured_distance)/real_width_of_face\n",
    "#     return focal_length\n",
    "\n",
    "def Distance_Measurement(face_real_width, Focal_Length, face_with_in_image):\n",
    "   distance= (face_real_width * Focal_Length)/face_with_in_image \n",
    "   return distance \n",
    "# def Face_Detection(image):\n",
    "#     f_width =0\n",
    "#     Gray_image = cv2.cvtColor(image, cv2.COLOR_BGR2GRAY)\n",
    "#     faces = face_detector.detectMultiScale(Gray_image, 1.3, 5)\n",
    "#     for (x, y, h, w) in faces:\n",
    "#         cv2.rectangle(image, (x,y), (x+w, y+h), (255,255,255), 1)\n",
    "#         f_width =w\n",
    "#     print(f_width)\n",
    "#     return f_width, image\n",
    "# reference_image =cv2.imread(\"rf.png\")\n",
    "# face_w , image_read= Face_Detection(reference_image)\n",
    "# cv2.imshow(\"ref\", image_read)\n",
    "calculate_focal_length =480 #FocalLengthFinder(Know_distance, Know_width_face,face_w)\n",
    "print(calculate_focal_length)"
   ]
  },
  {
   "cell_type": "code",
   "execution_count": null,
   "id": "5d66f5b8",
   "metadata": {},
   "outputs": [],
   "source": [
    "cap = cv2.VideoCapture(0)\n",
    "font = cv2.FONT_HERSHEY_SIMPLEX\n",
    "while cap.isOpened():\n",
    "    ret, frame = cap.read()\n",
    "\n",
    "    height, width, dim = frame.shape\n",
    "    Gray_image = cv2.cvtColor(frame, cv2.COLOR_BGR2GRAY)\n",
    "    faces = face_detector.detectMultiScale(Gray_image, 1.3, 5)\n",
    "    for (x, y, h, w) in faces:\n",
    "        cv2.rectangle(frame, (x,y), (x+w, y+h), (255,255,255), 1)\n",
    "        distance =Distance_Measurement(Know_width_face,calculate_focal_length, w)\n",
    "        print(distance)\n",
    "        distance=round(distance,2)\n",
    "    # Reshape image\n",
    "    img = frame.copy()\n",
    "    img=cv2.resize(img,(256,256))\n",
    "#     img = tf.image.resize_with_pad(np.expand_dims(img, axis=0), 256,256)\n",
    "#     input_image = tf.cast(img, dtype=tf.float32)\n",
    "    # Setup input and output \n",
    "    input_details = interpreter.get_input_details()\n",
    "    output_details = interpreter.get_output_details()\n",
    "    \n",
    "    # Make predictions \n",
    "#     interpreter.set_tensor(input_details[0]['index'], np.array(input_image))\n",
    "    interpreter.set_tensor(input_details[0]['index'],np.expand_dims(img, axis=0))\n",
    "    interpreter.invoke()\n",
    "    keypoints_with_scores = interpreter.get_tensor(output_details[0]['index'])\n",
    "    \n",
    "    # Rendering \n",
    "    draw_connections(frame, keypoints_with_scores, EDGES, 0.4)\n",
    "    draw_keypoints(frame, keypoints_with_scores, 0.4)\n",
    "    # print(keypoints_with_scores)\n",
    "    predict(frame,keypoints_with_scores)\n",
    "    # cv2.putText(frame, f\" Distance = {distance}\", (50,50),0.7, font,(201,135,69),2,cv2.LINE_4,True)\n",
    "    txt=\" \"\n",
    "    color=(138,61,169)\n",
    "    try:\n",
    "        if distance > 40 and distance<76:\n",
    "            txt=\"SAFE distace \"\n",
    "            color=(10,255,36)\n",
    "        else:\n",
    "            txt=\"UNSAFE, Distance\"\n",
    "            color=(36,10,200)\n",
    "    except:\n",
    "        pass\n",
    "    cv2.putText(frame,txt,(150,450),font,1,color,2,cv2.LINE_AA)\n",
    "    cv2.imshow('MoveNet Lightning', frame)\n",
    "    \n",
    "    if cv2.waitKey(10) & 0xFF==ord('q'):\n",
    "        break\n",
    "        \n",
    "cap.release()\n",
    "cv2.destroyAllWindows()"
   ]
  },
  {
   "cell_type": "code",
   "execution_count": null,
   "id": "528375f8",
   "metadata": {},
   "outputs": [],
   "source": [
    "cap.release()\n",
    "cv2.destroyAllWindows()"
   ]
  },
  {
   "cell_type": "code",
   "execution_count": null,
   "id": "5505fbeb",
   "metadata": {},
   "outputs": [],
   "source": []
  }
 ],
 "metadata": {
  "interpreter": {
   "hash": "77e3410b3602d295f340d8aec6ddd5e2feb537b2bf71a2dfc783da3b547bb79c"
  },
  "kernelspec": {
   "display_name": "Python 3 (ipykernel)",
   "language": "python",
   "name": "python3"
  },
  "language_info": {
   "codemirror_mode": {
    "name": "ipython",
    "version": 3
   },
   "file_extension": ".py",
   "mimetype": "text/x-python",
   "name": "python",
   "nbconvert_exporter": "python",
   "pygments_lexer": "ipython3",
   "version": "3.8.10"
  }
 },
 "nbformat": 4,
 "nbformat_minor": 5
}
